{
 "cells": [
  {
   "cell_type": "code",
   "execution_count": 5,
   "metadata": {},
   "outputs": [
    {
     "name": "stdout",
     "output_type": "stream",
     "text": [
      "the number is odd\n"
     ]
    }
   ],
   "source": [
    "#WAP to check whether a number is even or odd\n",
    "num=int(input(\"enter a number\"))\n",
    "if(num%2==0):\n",
    "    print(\"the number is even\")\n",
    "else:\n",
    "    print(\"the number is odd\")"
   ]
  },
  {
   "cell_type": "code",
   "execution_count": 6,
   "metadata": {},
   "outputs": [
    {
     "name": "stdout",
     "output_type": "stream",
     "text": [
      "You are not eligible for voting\n"
     ]
    }
   ],
   "source": [
    "#WAP to check whether a person is eligible for voting\n",
    "num=int(input(\"Enter your age\"))\n",
    "if num>18:\n",
    "    print(\"You are Eligible for voting\")\n",
    "else:\n",
    "    print(\"You are not eligible for voting\")"
   ]
  },
  {
   "cell_type": "code",
   "execution_count": 12,
   "metadata": {},
   "outputs": [
    {
     "name": "stdout",
     "output_type": "stream",
     "text": [
      "wednesday\n"
     ]
    }
   ],
   "source": [
    " #WAP to enter number between 1 to 7 as days of a weekand print the day accordingly. (monday, tuesday,...) using if elif case\n",
    "day=int(input(\"enter the number of days\"))\n",
    "if(day==1):\n",
    "    print(\"monday\")\n",
    "elif(day==2):\n",
    "    print(\"tuesday\")\n",
    "elif(day==3):\n",
    "    print(\"wednesday\")\n",
    "elif(day==4):\n",
    "    print(\"thursday\")\n",
    "elif(day==5):\n",
    "    print(\"friday\")\n",
    "elif(day==6):\n",
    "    print(\"saturday\")\n",
    "elif(day==7):\n",
    "    print(\"sunday\")\n",
    "else:\n",
    "    print(\"not possible\")"
   ]
  },
  {
   "cell_type": "code",
   "execution_count": 14,
   "metadata": {},
   "outputs": [
    {
     "name": "stdout",
     "output_type": "stream",
     "text": [
      "Thursday\n"
     ]
    }
   ],
   "source": [
    "#WAP to enter number between 1 to 7 as days of a weekand print the day accordingly. (monday, tuesday,...) match case\n",
    "day=int(input(\"Enter the number of day\"))\n",
    "match day:\n",
    "    case 1:\n",
    "        print(\"Monday\")\n",
    "    case 2:\n",
    "        print(\"Tuesday\")\n",
    "    case 3:\n",
    "        print(\"Wednesday\")\n",
    "    case 4:\n",
    "        print(\"Thursday\")\n",
    "    case 5:\n",
    "        print(\"Friday\")\n",
    "    case 6:\n",
    "        print(\"Saturday\")\n",
    "    case 7:\n",
    "        print(\"Sunday\")\n",
    "    case _:\n",
    "        print(\"Impossible\")"
   ]
  },
  {
   "cell_type": "code",
   "execution_count": 15,
   "metadata": {},
   "outputs": [
    {
     "name": "stdout",
     "output_type": "stream",
     "text": [
      "This Year is not a leap Year\n"
     ]
    }
   ],
   "source": [
    "#WAP tp check wehther the enter year is leap year or not\n",
    "def CheckLeap(Year):\n",
    " # Checking if the given year is leap year\n",
    "  if((Year % 400 == 0) or (Year % 100 != 0) and (Year % 4 == 0)):\n",
    "    print(\"Yes! This Year is a leap Year\");\n",
    "  # Else it is not a leap year\n",
    "  else:\n",
    "    print (\"This Year is not a leap Year\")\n",
    "# Taking an input year from user\n",
    "Year = int(input(\"Enter the number here: \"))\n",
    "# Printing result\n",
    "CheckLeap(Year)"
   ]
  },
  {
   "cell_type": "code",
   "execution_count": 16,
   "metadata": {},
   "outputs": [
    {
     "name": "stdout",
     "output_type": "stream",
     "text": [
      "Grade: F\n"
     ]
    }
   ],
   "source": [
    "#WAP to calculate to take in marks of 5 subject, compute the average and display the grades\n",
    "sub1=int(input(\"Enter marks of the first subject: \"))\n",
    "sub2=int(input(\"Enter marks of the second subject: \"))\n",
    "sub3=int(input(\"Enter marks of the third subject: \"))\n",
    "sub4=int(input(\"Enter marks of the fourth subject: \"))\n",
    "sub5=int(input(\"Enter marks of the fifth subject: \"))\n",
    "avg=(sub1+sub2+sub3+sub4+sub4)/5\n",
    "if(avg>=90):\n",
    "    print(\"Grade: A\")\n",
    "elif(avg>=80):\n",
    "    print(\"Grade: B\")\n",
    "elif(avg>=70):\n",
    "    print(\"Grade: C\")\n",
    "elif(avg>=60):\n",
    "    print(\"Grade: D\")\n",
    "else:\n",
    "    print(\"Grade: F\")"
   ]
  },
  {
   "cell_type": "code",
   "execution_count": 17,
   "metadata": {},
   "outputs": [
    {
     "name": "stdout",
     "output_type": "stream",
     "text": [
      "i is a Vowel\n"
     ]
    }
   ],
   "source": [
    "#WAP to input a character, check whether the given character is vowel or consonant\n",
    "ch = input(\"Enter a character: \")\n",
    "\n",
    "if(ch=='A' or ch=='a' or ch=='E' or ch =='e' or ch=='I'\n",
    "or ch=='i' or ch=='O' or ch=='o' or ch=='U' or ch=='u'):\n",
    "    print(ch, \"is a Vowel\")\n",
    "else:\n",
    "    print(ch, \"is a Consonant\")"
   ]
  },
  {
   "cell_type": "code",
   "execution_count": 20,
   "metadata": {},
   "outputs": [
    {
     "name": "stdout",
     "output_type": "stream",
     "text": [
      "element found\n"
     ]
    }
   ],
   "source": [
    "#WAP to search an element in list\n",
    "ls=[10,20,30,40,50,60,70]\n",
    "search_ele=int(input(\"enter a number\"))\n",
    "for ele in ls:\n",
    "    if search_ele==ele:\n",
    "        print(\"element found\")\n",
    "        break\n",
    "else:\n",
    "    print(\"element not found\")"
   ]
  },
  {
   "cell_type": "code",
   "execution_count": 23,
   "metadata": {},
   "outputs": [
    {
     "name": "stdout",
     "output_type": "stream",
     "text": [
      "not found\n"
     ]
    }
   ],
   "source": [
    "#WAP to take a single digit number from the keyboard and print its spelling in English word using if, elif\n",
    "\n",
    "digit= int(input(\"Enter a single digit number: \"))\n",
    "\n",
    "# For digit 0\n",
    "if digit == '0':\n",
    "    print(\"Zero \", end = \" \")\n",
    "# For digit 1\n",
    "elif digit == '1':\n",
    "    print(\"One \", end = \" \")\n",
    "# For digit 2\n",
    "elif digit == '2':\n",
    "    print(\"Two \", end = \" \")\n",
    "#For digit 3\n",
    "elif digit=='3':\n",
    "    print(\"Three\",end=\" \")\n",
    "# For digit 4\n",
    "elif digit == '4':\n",
    "    print(\"Four \", end = \" \")\n",
    "# For digit 5\n",
    "elif digit == '5':\n",
    "    print(\"Five \", end = \" \")\n",
    "# For digit 6\n",
    "elif digit == '6':\n",
    "    print(\"Six \", end = \" \")\n",
    "# For digit 7\n",
    "elif digit == '7':\n",
    "    print(\"Seven\", end = \" \")\n",
    "# For digit\n",
    "elif digit == '8':\n",
    "    print(\"Eight\", end = \" \")\n",
    "# For digit 9\n",
    "elif digit == '9':\n",
    "    print(\"Nine \", end = \" \")\n",
    "else:\n",
    "    print(\"not found\")"
   ]
  },
  {
   "cell_type": "code",
   "execution_count": 1,
   "metadata": {},
   "outputs": [
    {
     "name": "stdout",
     "output_type": "stream",
     "text": [
      "min:  7\n",
      "mid:  13\n",
      "max:  2006\n"
     ]
    }
   ],
   "source": [
    "#WAP to input three numbers and arrange them in ascending numbers\n",
    "x=int(input(\"Enter a number in x: \"))\n",
    "y=int(input(\"Enter a number in y: \"))\n",
    "z=int(input(\"Enter a number in z: \"))\n",
    "if x<y and x<z:\n",
    "    if y<z:\n",
    "        min, mid, max=x,y,z\n",
    "    else:\n",
    "        min, mid, max=x,z,y\n",
    "elif y<x and y<z:\n",
    "    if x<z:\n",
    "        min, mid, max=y,x,z\n",
    "    else:\n",
    "        min, mid, max=y,z,x\n",
    "else:\n",
    "    if x<y:\n",
    "        min, mid, max=z,x,y\n",
    "    else:\n",
    "        min, mid, max=z,y,x\n",
    "        \n",
    "print(\"min: \",min)\n",
    "print(\"mid: \",mid)\n",
    "print(\"max: \",max)"
   ]
  },
  {
   "cell_type": "code",
   "execution_count": 2,
   "metadata": {},
   "outputs": [
    {
     "name": "stdout",
     "output_type": "stream",
     "text": [
      "Seven\n"
     ]
    }
   ],
   "source": [
    "#WAP to take a single digit number from the keyboard and print its spelling in English word using match case\n",
    "digit= int(input(\"Enter a single digit number: \"))\n",
    "match digit:\n",
    "    case (0):\n",
    "        print(\"Zero\")\n",
    "    case (1):\n",
    "        print(\"One\")\n",
    "    case (2):\n",
    "        print(\"Two\")\n",
    "    case (3):\n",
    "        print(\"Three\")\n",
    "    case (4):\n",
    "        print(\"Four\")\n",
    "    case (5):\n",
    "        print(\"Five\")\n",
    "    case (6):\n",
    "        print(\"Six\")\n",
    "    case (7):\n",
    "        print(\"Seven\")\n",
    "    case (8):\n",
    "        print(\"Eight\")\n",
    "    case (9):\n",
    "        print(\"Nine\")\n",
    "    case _:\n",
    "        print(\"Invalid input. Please enter a single digit number (0-9).\")\n"
   ]
  },
  {
   "cell_type": "code",
   "execution_count": 24,
   "metadata": {},
   "outputs": [
    {
     "ename": "NameError",
     "evalue": "name 'result' is not defined",
     "output_type": "error",
     "traceback": [
      "\u001b[0;31m---------------------------------------------------------------------------\u001b[0m",
      "\u001b[0;31mNameError\u001b[0m                                 Traceback (most recent call last)",
      "Cell \u001b[0;32mIn[24], line 14\u001b[0m\n\u001b[1;32m     12\u001b[0m     result \u001b[38;5;241m==\u001b[39m (a\u001b[38;5;241m*\u001b[39mb)\n\u001b[1;32m     13\u001b[0m \u001b[38;5;28;01melif\u001b[39;00m op\u001b[38;5;241m==\u001b[39m\u001b[38;5;124m'\u001b[39m\u001b[38;5;124m/\u001b[39m\u001b[38;5;124m'\u001b[39m:\n\u001b[0;32m---> 14\u001b[0m     \u001b[43mresult\u001b[49m \u001b[38;5;241m==\u001b[39m (a\u001b[38;5;241m/\u001b[39mb)\n\u001b[1;32m     15\u001b[0m \u001b[38;5;28;01melif\u001b[39;00m op\u001b[38;5;241m==\u001b[39m\u001b[38;5;124m'\u001b[39m\u001b[38;5;124m%\u001b[39m\u001b[38;5;124m'\u001b[39m:\n\u001b[1;32m     16\u001b[0m     result \u001b[38;5;241m==\u001b[39m (a\u001b[38;5;241m%\u001b[39mb)\n",
      "\u001b[0;31mNameError\u001b[0m: name 'result' is not defined"
     ]
    }
   ],
   "source": [
    "#WAP to read to numbers and arithmetic operator[+,-,*,/,%] perform the operation and display the computed result\n",
    "a=int(input(\"Enter a number: \"))\n",
    "b=int(input(\"Enter b number: \"))\n",
    "\n",
    "op=input(\"enter an operator (+,-,*,/,%):\")\n",
    "\n",
    "if op=='+':\n",
    "    result == (a+b)\n",
    "elif op=='-':\n",
    "    result == (a-b)\n",
    "elif op=='*':\n",
    "    result == (a*b)\n",
    "elif op=='/':\n",
    "    result == (a/b)\n",
    "elif op=='%':\n",
    "    result == (a%b)\n",
    "else:\n",
    "    print(\"wrong operator\")\n",
    "print(a,op,b,\"=\",result)\n",
    "\n"
   ]
  },
  {
   "cell_type": "code",
   "execution_count": 4,
   "metadata": {},
   "outputs": [
    {
     "name": "stdout",
     "output_type": "stream",
     "text": [
      "lower case\n"
     ]
    }
   ],
   "source": [
    "#WAP to check whether a inputted character is uppercase or lowercase or digit or any character\n",
    "\n",
    "ch=input(\"Enter a character : \")\n",
    "if ch>='A' and ch<='Z':\n",
    "    print(\"UPPER CASE\")\n",
    "elif ch>='a' and ch<='z':\n",
    "    print(\"lower case\")\n",
    "elif ch>='0' and ch<='9':\n",
    "    print(\"Digit\")\n",
    "else:\n",
    "    print(\"Special Symbol\")"
   ]
  },
  {
   "cell_type": "code",
   "execution_count": 6,
   "metadata": {},
   "outputs": [
    {
     "name": "stdout",
     "output_type": "stream",
     "text": [
      "you guessed it! The secret number is 6\n"
     ]
    }
   ],
   "source": [
    "#develop a number guessing game using loops and conditional statements. ask user to guess a secret number. if user has not guessed correct number, provide him/her hin\n",
    "from random import randint\n",
    "LOW, HIGH=1,10\n",
    "secret_number = randint(LOW,HIGH)\n",
    "clue=\"\"\n",
    "while True:\n",
    "    guess=input(f\"guess a number between {LOW} and {HIGH} {clue}\")\n",
    "    number=int(guess)\n",
    "    if number > secret_number:\n",
    "        clue=f\"(number is less then {number})\"\n",
    "    elif number < secret_number:\n",
    "        clue =f\"(number is greater than {number})\"\n",
    "    else:\n",
    "        break\n",
    "print(f\"you guessed it! The secret number is {number}\")"
   ]
  },
  {
   "cell_type": "code",
   "execution_count": 9,
   "metadata": {},
   "outputs": [
    {
     "name": "stdout",
     "output_type": "stream",
     "text": [
      "enter correct username and password combo to continue\n",
      "Access denied. try again.\n",
      "Access granted\n"
     ]
    }
   ],
   "source": [
    "#WAP to promote user enter name and password until it enters \"stud\" in name and \"pass\" in password. Allow only five attempts\n",
    "print('enter correct username and password combo to continue')\n",
    "count=0\n",
    "while count<3:\n",
    "    name,pwd=input(\"enter name and password\").split()\n",
    "    if name==\"stud\" and pwd=='pass':\n",
    "        print('Access granted')\n",
    "        break\n",
    "    else:\n",
    "        if count==5:\n",
    "            print('sorry, attempts completed')\n",
    "        else:\n",
    "            print('Access denied. try again.')\n",
    "            count+=1"
   ]
  },
  {
   "cell_type": "code",
   "execution_count": 10,
   "metadata": {},
   "outputs": [
    {
     "name": "stdout",
     "output_type": "stream",
     "text": [
      "15\n",
      "14\n",
      "13\n",
      "12\n",
      "11\n",
      "10\n",
      "9\n",
      "8\n",
      "7\n",
      "6\n",
      "5\n",
      "4\n",
      "3\n",
      "2\n"
     ]
    }
   ],
   "source": [
    "#WAP to display numbers from 15 to 1 in decending order\n",
    "for i in range(15,1,-1):\n",
    "    print(i)"
   ]
  },
  {
   "cell_type": "code",
   "execution_count": 11,
   "metadata": {},
   "outputs": [
    {
     "name": "stdout",
     "output_type": "stream",
     "text": [
      "sum of series is :  20045\n"
     ]
    }
   ],
   "source": [
    "#WAP to display sum of numbers from 11 to 200 using loop\n",
    "sum=0\n",
    "for i in range(11,201):\n",
    "    sum=sum+i\n",
    "print(\"sum of series is : \", sum)"
   ]
  },
  {
   "cell_type": "code",
   "execution_count": 12,
   "metadata": {},
   "outputs": [
    {
     "name": "stdout",
     "output_type": "stream",
     "text": [
      "The average of numbers from 5 to 15 and 21 to 60 is:33.92156862745098\n"
     ]
    }
   ],
   "source": [
    "#WAP to display average of numbers from 5 to 15 and 21 to 60\n",
    "sum_numbers = 0\n",
    "count_numbers = 0\n",
    "\n",
    "for number in range(5, 16):\n",
    "    sum_numbers += number\n",
    "    count_numbers += 1\n",
    "for number in range(21, 61):\n",
    "    sum_numbers += number\n",
    "    count_numbers += 1\n",
    "average = sum_numbers / count_numbers if count_numbers > 0 else 0\n",
    "print(f\"The average of numbers from 5 to 15 and 21 to 60 is:{average}\")"
   ]
  },
  {
   "cell_type": "code",
   "execution_count": 13,
   "metadata": {},
   "outputs": [
    {
     "name": "stdout",
     "output_type": "stream",
     "text": [
      "Odd numbers between 5 to 30: \n",
      "5\n",
      "7\n",
      "9\n",
      "11\n",
      "13\n",
      "15\n",
      "17\n",
      "19\n",
      "21\n",
      "23\n",
      "25\n",
      "27\n",
      "29\n"
     ]
    }
   ],
   "source": [
    "#WAP to display odd numbers 5 to 30\n",
    "print(\"Odd numbers between 5 to 30: \")\n",
    "for i in range(5,31):\n",
    "    if i%2==1:\n",
    "        print(i)"
   ]
  },
  {
   "cell_type": "code",
   "execution_count": 16,
   "metadata": {},
   "outputs": [
    {
     "name": "stdout",
     "output_type": "stream",
     "text": [
      "The factorial of 7 is 5040\n"
     ]
    }
   ],
   "source": [
    "#WAP to find factorial of a number inputted by the user\n",
    "num= int(input(\"enter a number: \"))\n",
    "\n",
    "fact=1\n",
    "a=1\n",
    "while a<=num:\n",
    "    fact=fact*a\n",
    "    a=a+1\n",
    "print(\"The factorial of\",num, \"is\",fact)\n",
    "\n",
    "\n",
    "\n"
   ]
  },
  {
   "cell_type": "code",
   "execution_count": 17,
   "metadata": {},
   "outputs": [
    {
     "name": "stdout",
     "output_type": "stream",
     "text": [
      "the sum of 3 and 5 is 8\n",
      "sum is 6\n"
     ]
    }
   ],
   "source": [
    "#WAP to find sum of digits of a int number\n",
    "num1=int(input(\"enter number 1\"))\n",
    "num2=int(input(\"enter number 2\"))\n",
    "sum=num1+num2\n",
    "print(\"the sum of\",num1,\"and\",num2,\"is\",sum)\n",
    "\n",
    "n1=int(input(\"enter the first number\"))\n",
    "n2=int(input(\"enter the last number\"))\n",
    "sum=0\n",
    "i=n1\n",
    "while i<=n2:\n",
    "    sum=sum+i\n",
    "    i=i+1\n",
    "print(\"sum is\",sum)"
   ]
  },
  {
   "cell_type": "code",
   "execution_count": 18,
   "metadata": {},
   "outputs": [
    {
     "name": "stdout",
     "output_type": "stream",
     "text": [
      "The sum of even numbers between 30 and 50 is: 440\n"
     ]
    }
   ],
   "source": [
    "#WAP to display sum of even numbers between 30 to 50\n",
    "sum_even = 0\n",
    "\n",
    "# Loop through the range from 30 to 50\n",
    "for number in range(30, 51):\n",
    "    if number % 2 == 0: # Check if the number is even\n",
    "       sum_even += number # Add the even number to the sum\n",
    "\n",
    "# Output the result\n",
    "print(f\"The sum of even numbers between 30 and 50 is: {sum_even}\")\n"
   ]
  },
  {
   "cell_type": "code",
   "execution_count": 20,
   "metadata": {},
   "outputs": [
    {
     "name": "stdout",
     "output_type": "stream",
     "text": [
      "7 * 1 = 7\n",
      "7 * 2 = 14\n",
      "7 * 3 = 21\n",
      "7 * 4 = 28\n",
      "7 * 5 = 35\n",
      "7 * 6 = 42\n",
      "7 * 7 = 49\n",
      "7 * 8 = 56\n",
      "7 * 9 = 63\n",
      "7 * 10 = 70\n",
      "7 * 11 = 77\n",
      "7 * 12 = 84\n",
      "7 * 13 = 91\n",
      "7 * 14 = 98\n",
      "7 * 15 = 105\n",
      "7 * 16 = 112\n",
      "7 * 17 = 119\n",
      "7 * 18 = 126\n",
      "7 * 19 = 133\n",
      "7 * 20 = 140\n"
     ]
    }
   ],
   "source": [
    "#WAP to print multiplication table\n",
    "n=int(input(\"Enter a number: \"))\n",
    "for i in range(1,21):\n",
    "    print(n,\"*\",i,\"=\",n*i)"
   ]
  },
  {
   "cell_type": "code",
   "execution_count": 21,
   "metadata": {},
   "outputs": [
    {
     "name": "stdout",
     "output_type": "stream",
     "text": [
      "1  \n",
      "1 2  \n",
      "1 2 3  \n",
      "1 2 3 4  \n",
      "1 2 3 4 5  \n",
      "1 2 3 4 5 6  \n",
      "1 2 3 4 5 6 7  \n"
     ]
    }
   ],
   "source": [
    "#WAP to print the following pattern\n",
    "#1\n",
    "#2 2\n",
    "#3 3 3\n",
    "#4 4 4 4\n",
    "rows = int(input(\"Enter number of rows: \"))\n",
    "for i in range(1, rows+1):\n",
    "    for j in range(1, i+1):\n",
    "        print(j, end=\" \")\n",
    "    print(' ')"
   ]
  },
  {
   "cell_type": "code",
   "execution_count": 25,
   "metadata": {},
   "outputs": [
    {
     "name": "stdout",
     "output_type": "stream",
     "text": [
      "* \n",
      "* * \n",
      "* * * \n",
      "* * * * \n",
      "* * * \n",
      "* * \n",
      "* \n"
     ]
    }
   ],
   "source": [
    "#WAP to print pattern:\n",
    "#*\n",
    "#* *\n",
    "#* * *\n",
    "#* * * *\n",
    "#* * *\n",
    "#* *\n",
    "#*\n",
    "#ask user to enter the number of rows in the first half\n",
    "rows = int(input(\"Enter the number of rows for the first half: \"))\n",
    "for i in range(1, rows + 1):\n",
    "    print('* ' * i)\n",
    "for j in range(rows - 1, 0,-1):\n",
    "    print('* ' * j)"
   ]
  },
  {
   "cell_type": "code",
   "execution_count": 26,
   "metadata": {},
   "outputs": [
    {
     "name": "stdout",
     "output_type": "stream",
     "text": [
      "A \n",
      "B B \n",
      "C C C \n",
      "D D D D \n",
      "E E E E E \n",
      "F F F F F F \n",
      "G G G G G G G \n",
      "H H H H H H H H \n",
      "I I I I I I I I I \n"
     ]
    }
   ],
   "source": [
    "#WAP to print pattern\n",
    "#A\n",
    "#B B\n",
    "#C C C\n",
    "rows = 9\n",
    "for i in range(65, rows+65):\n",
    "    for j in range(65, i+1):\n",
    "        print(chr(i), end=\" \")\n",
    "    print()"
   ]
  },
  {
   "cell_type": "code",
   "execution_count": 30,
   "metadata": {},
   "outputs": [
    {
     "ename": "TypeError",
     "evalue": "'int' object is not callable",
     "output_type": "error",
     "traceback": [
      "\u001b[0;31m---------------------------------------------------------------------------\u001b[0m",
      "\u001b[0;31mTypeError\u001b[0m                                 Traceback (most recent call last)",
      "Cell \u001b[0;32mIn[30], line 15\u001b[0m\n\u001b[1;32m     13\u001b[0m \u001b[38;5;66;03m# Input from the user\u001b[39;00m\n\u001b[1;32m     14\u001b[0m number \u001b[38;5;241m=\u001b[39m \u001b[38;5;28mint\u001b[39m(\u001b[38;5;28minput\u001b[39m(\u001b[38;5;124m\"\u001b[39m\u001b[38;5;124mEnter a number: \u001b[39m\u001b[38;5;124m\"\u001b[39m))\n\u001b[0;32m---> 15\u001b[0m \u001b[38;5;28;01mif\u001b[39;00m \u001b[43mis_armstrong_number\u001b[49m\u001b[43m(\u001b[49m\u001b[43mnumber\u001b[49m\u001b[43m)\u001b[49m:\n\u001b[1;32m     16\u001b[0m     \u001b[38;5;28mprint\u001b[39m(\u001b[38;5;124mf\u001b[39m\u001b[38;5;124m\"\u001b[39m\u001b[38;5;132;01m{\u001b[39;00mnumber\u001b[38;5;132;01m}\u001b[39;00m\u001b[38;5;124m is an Armstrong number.\u001b[39m\u001b[38;5;124m\"\u001b[39m)\n\u001b[1;32m     17\u001b[0m \u001b[38;5;28;01melse\u001b[39;00m:\n",
      "Cell \u001b[0;32mIn[30], line 8\u001b[0m, in \u001b[0;36mis_armstrong_number\u001b[0;34m(num)\u001b[0m\n\u001b[1;32m      5\u001b[0m num_digits \u001b[38;5;241m=\u001b[39m \u001b[38;5;28mlen\u001b[39m(digits)\n\u001b[1;32m      7\u001b[0m \u001b[38;5;66;03m# Calculate the sum of the digits raised to the power of the number of digits\u001b[39;00m\n\u001b[0;32m----> 8\u001b[0m sum_of_powers \u001b[38;5;241m=\u001b[39m \u001b[38;5;28;43msum\u001b[39;49m\u001b[43m(\u001b[49m\u001b[38;5;28;43mint\u001b[39;49m\u001b[43m(\u001b[49m\u001b[43mdigit\u001b[49m\u001b[43m)\u001b[49m\u001b[43m \u001b[49m\u001b[38;5;241;43m*\u001b[39;49m\u001b[38;5;241;43m*\u001b[39;49m\u001b[43m \u001b[49m\u001b[43mnum_digits\u001b[49m\u001b[43m \u001b[49m\u001b[38;5;28;43;01mfor\u001b[39;49;00m\u001b[43m \u001b[49m\u001b[43mdigit\u001b[49m\u001b[43m \u001b[49m\u001b[38;5;129;43;01min\u001b[39;49;00m\u001b[43m \u001b[49m\u001b[43mdigits\u001b[49m\u001b[43m)\u001b[49m\n\u001b[1;32m     10\u001b[0m \u001b[38;5;66;03m# An Armstrong number is equal to the sum of its digits raised to the power of the number of digits\u001b[39;00m\n\u001b[1;32m     11\u001b[0m \u001b[38;5;28;01mreturn\u001b[39;00m sum_of_powers \u001b[38;5;241m==\u001b[39m num\n",
      "\u001b[0;31mTypeError\u001b[0m: 'int' object is not callable"
     ]
    }
   ],
   "source": [
    "#WAP to find whether given number is an armstrong number\n",
    "def is_armstrong_number(num):\n",
    "    # Convert the number to a string to easily get the digits\n",
    "    digits = str(num)\n",
    "    num_digits = len(digits)\n",
    "\n",
    "    # Calculate the sum of the digits raised to the power of the number of digits\n",
    "    sum_of_powers = sum(int(digit) ** num_digits for digit in digits)\n",
    "\n",
    "    # An Armstrong number is equal to the sum of its digits raised to the power of the number of digits\n",
    "    return sum_of_powers == num\n",
    "\n",
    "# Input from the user\n",
    "number = int(input(\"Enter a number: \"))\n",
    "if is_armstrong_number(number):\n",
    "    print(f\"{number} is an Armstrong number.\")\n",
    "else:\n",
    "    print(f\"{number} is not an Armstrong number.\") "
   ]
  },
  {
   "cell_type": "code",
   "execution_count": 32,
   "metadata": {},
   "outputs": [
    {
     "name": "stdout",
     "output_type": "stream",
     "text": [
      "Fibonacci series up to 7 terms: [0, 1, 1, 2, 3, 5, 8]\n"
     ]
    }
   ],
   "source": [
    "#WAP to genrate the fibonnaci series upto n terms\n",
    "def fibonacci_series(n):\n",
    "    fib_sequence = []\n",
    "    a, b = 0, 1 # Starting values of the Fibonacci series\n",
    "\n",
    "    for _ in range(n):\n",
    "        fib_sequence.append(a) # Add the current term to the list\n",
    "        a, b = b, a + b # Update values for the next term\n",
    "\n",
    "    return fib_sequence\n",
    "\n",
    "# Input from the user\n",
    "n = int(input(\"Enter the number of terms for the Fibonacci series: \"))\n",
    "if n <= 0:\n",
    "    print(\"Please enter a positive integer.\")\n",
    "else:\n",
    "    series = fibonacci_series(n)\n",
    "    print(f\"Fibonacci series up to {n} terms: {series}\")"
   ]
  },
  {
   "cell_type": "code",
   "execution_count": 41,
   "metadata": {},
   "outputs": [
    {
     "name": "stdout",
     "output_type": "stream",
     "text": [
      "it is a prime number\n"
     ]
    }
   ],
   "source": [
    "#WAP that check whether a number is prime or not\n",
    "num=int(input(\"Enter a number: \"))\n",
    "if num==1:\n",
    "    print(\"it is not a prime number\")\n",
    "if num>1:\n",
    "    for i in range(2,num):\n",
    "       if num%i==0:\n",
    "           print(\"its is not a prime number\")\n",
    "    else:\n",
    "           print(\"it is a prime number\")\n",
    "\n"
   ]
  },
  {
   "cell_type": "code",
   "execution_count": 49,
   "metadata": {},
   "outputs": [
    {
     "ename": "TypeError",
     "evalue": "'int' object is not callable",
     "output_type": "error",
     "traceback": [
      "\u001b[0;31m---------------------------------------------------------------------------\u001b[0m",
      "\u001b[0;31mTypeError\u001b[0m                                 Traceback (most recent call last)",
      "Cell \u001b[0;32mIn[49], line 9\u001b[0m\n\u001b[1;32m      6\u001b[0m numbers \u001b[38;5;241m=\u001b[39m arr[\u001b[38;5;241m1\u001b[39m]\n\u001b[1;32m      8\u001b[0m \u001b[38;5;66;03m# Calculating sum and average\u001b[39;00m\n\u001b[0;32m----> 9\u001b[0m total_sum \u001b[38;5;241m=\u001b[39m (\u001b[38;5;28;43msum\u001b[39;49m\u001b[43m(\u001b[49m\u001b[43mnumbers\u001b[49m\u001b[43m)\u001b[49m)\n\u001b[1;32m     10\u001b[0m average \u001b[38;5;241m=\u001b[39m total_sum \u001b[38;5;241m/\u001b[39m \u001b[38;5;28mlen\u001b[39m(numbers)\n\u001b[1;32m     12\u001b[0m \u001b[38;5;66;03m# Output the results\u001b[39;00m\n",
      "\u001b[0;31mTypeError\u001b[0m: 'int' object is not callable"
     ]
    }
   ],
   "source": [
    "#WAP to calculate sum and average of a given array: arr=(‘i’, [1,2,3,4,5])\n",
    "# Given array\n",
    "arr = ('i', [1, 2, 3, 4, 5])\n",
    "\n",
    "# Extracting the list from the tuple\n",
    "numbers = arr[1]\n",
    "\n",
    "# Calculating sum and average\n",
    "total_sum = sum(numbers)\n",
    "average = total_sum / len(numbers)\n",
    "\n",
    "# Output the results\n",
    "print(f\"Sum: {total_sum}\")\n",
    "print(f\"Average: {average}\")"
   ]
  },
  {
   "cell_type": "code",
   "execution_count": 51,
   "metadata": {},
   "outputs": [
    {
     "name": "stdout",
     "output_type": "stream",
     "text": [
      "[50, 40, 30, 20, 10]\n"
     ]
    }
   ],
   "source": [
    "#Write a Python program to reverse the order of the items in the array.\n",
    "\n",
    "a=[10,20,30,40,50]\n",
    "a.reverse()\n",
    "print(a)"
   ]
  },
  {
   "cell_type": "code",
   "execution_count": 54,
   "metadata": {},
   "outputs": [
    {
     "name": "stdout",
     "output_type": "stream",
     "text": [
      "[10, 20, 30, 40, 60, 50, 70, 80]\n"
     ]
    }
   ],
   "source": [
    "#Write a Python program to remove duplicate elements in a given array of integers\n",
    "\n",
    "a=[10,10,20,30,40,60,50,70,50,60,80]\n",
    "non_repeat=[]\n",
    "for i in a:\n",
    "    if i not in non_repeat:\n",
    "        non_repeat.append(i)\n",
    "print(non_repeat)"
   ]
  },
  {
   "cell_type": "code",
   "execution_count": 57,
   "metadata": {},
   "outputs": [
    {
     "name": "stdout",
     "output_type": "stream",
     "text": [
      "reemas"
     ]
    }
   ],
   "source": [
    "#Write a program that takes a string as input and prints it in reverse order.\n",
    "\n",
    "correct=input(\"Enter a string\")\n",
    "for i in correct[::-1]:\n",
    "    print(i,end=\"\")"
   ]
  },
  {
   "cell_type": "code",
   "execution_count": 59,
   "metadata": {},
   "outputs": [
    {
     "name": "stdout",
     "output_type": "stream",
     "text": [
      "The number of vowels in \"Hello, Learning Python is easy\" is 9\n"
     ]
    }
   ],
   "source": [
    "#Write a program that counts the number of vowels in a given string. \n",
    "Sentence=\"Hello, Learning Python is easy\"\n",
    "vowels=0\n",
    "for i in Sentence:\n",
    "    if i in \"aeiouAEIOU\":\n",
    "        vowels+=1\n",
    "        \n",
    "print(f'''The number of vowels in \"{Sentence}\" is {vowels}''')"
   ]
  },
  {
   "cell_type": "code",
   "execution_count": 60,
   "metadata": {},
   "outputs": [
    {
     "name": "stdout",
     "output_type": "stream",
     "text": [
      "The string is not a palindrome\n"
     ]
    }
   ],
   "source": [
    "#Write a program that checks if a given string is a palindrome (reads the same forwards and backwards)\n",
    "correct=input(\"Enter a string\")\n",
    "inverse=\"\"\n",
    "for i in correct[::-1]:\n",
    "    inverse+=i\n",
    "if correct==inverse:\n",
    "    print(\"The string is a palindrome\")\n",
    "else:\n",
    "    print(\"The string is not a palindrome\")"
   ]
  },
  {
   "cell_type": "code",
   "execution_count": 62,
   "metadata": {},
   "outputs": [
    {
     "name": "stdout",
     "output_type": "stream",
     "text": [
      "Hll, my nm s Smr\n"
     ]
    }
   ],
   "source": [
    "#Write a program that removes duplicate characters from a string.\n",
    "sent1=\"Hello, my name is Sameer\"\n",
    "sent2=\"\"\n",
    "for element in sent1:\n",
    "    if element not in \"aeiouAEIOU\":\n",
    "        sent2+=element\n",
    "print(sent2)"
   ]
  },
  {
   "cell_type": "code",
   "execution_count": 63,
   "metadata": {},
   "outputs": [
    {
     "name": "stdout",
     "output_type": "stream",
     "text": [
      "Even length words: []\n"
     ]
    }
   ],
   "source": [
    "#WAP to print even length words in string\n",
    "def print_even_length_words(input_string):\n",
    "    words = input_string.split()\n",
    "    even_length_words = [word for word in words if len(word) % 2 == 0]\n",
    "\n",
    "    print(\"Even length words:\", even_length_words)\n",
    "\n",
    "input_string = input(\"Enter a string: \")\n",
    "print_even_length_words(input_string)"
   ]
  },
  {
   "cell_type": "code",
   "execution_count": 65,
   "metadata": {},
   "outputs": [
    {
     "name": "stdout",
     "output_type": "stream",
     "text": [
      "Hello,mynameisSameer\n"
     ]
    }
   ],
   "source": [
    "#WAP to remove spaces from given string:\n",
    "sent1=\"Hello, my name is Sameer\"\n",
    "sent2=\"\"\n",
    "for element in sent1:\n",
    "    if element not in \" \":\n",
    "        sent2+=element\n",
    "print(sent2)"
   ]
  },
  {
   "cell_type": "code",
   "execution_count": 66,
   "metadata": {},
   "outputs": [
    {
     "name": "stdout",
     "output_type": "stream",
     "text": [
      "ACOEH\n"
     ]
    }
   ],
   "source": [
    "#WAP to convert given list of ASCII value to string. [65, 66, 67, 68, 69]\n",
    "str1=[65,67,79,69,72]\n",
    "sent2=\"\"\n",
    "for i in str1:\n",
    "    sent2+=chr(i)\n",
    "print(sent2)"
   ]
  },
  {
   "cell_type": "code",
   "execution_count": 68,
   "metadata": {},
   "outputs": [
    {
     "name": "stdout",
     "output_type": "stream",
     "text": [
      "-s-a-m-e-e-r-\n",
      "s-a-m-e-e-r-"
     ]
    }
   ],
   "source": [
    "#WAP to print the individual characters of the string inputted by user in the following way\n",
    "sent=input(\"Enter a string\")\n",
    "print(sent.replace(\"\",\"-\"))\n",
    "#or\n",
    "for i in sent:\n",
    "    print(i,end=\"-\")"
   ]
  },
  {
   "cell_type": "code",
   "execution_count": null,
   "metadata": {},
   "outputs": [],
   "source": []
  }
 ],
 "metadata": {
  "kernelspec": {
   "display_name": "Python 3",
   "language": "python",
   "name": "python3"
  },
  "language_info": {
   "codemirror_mode": {
    "name": "ipython",
    "version": 3
   },
   "file_extension": ".py",
   "mimetype": "text/x-python",
   "name": "python",
   "nbconvert_exporter": "python",
   "pygments_lexer": "ipython3",
   "version": "3.12.6"
  }
 },
 "nbformat": 4,
 "nbformat_minor": 2
}
