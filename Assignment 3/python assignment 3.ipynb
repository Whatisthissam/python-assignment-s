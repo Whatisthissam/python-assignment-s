{
 "cells": [
  {
   "cell_type": "code",
   "execution_count": 1,
   "metadata": {},
   "outputs": [
    {
     "name": "stdout",
     "output_type": "stream",
     "text": [
      "Name:Alice \n",
      "Age:16\n",
      "Roll No.:21 \n",
      "Stream:Science\n"
     ]
    }
   ],
   "source": [
    "#1 Create a person class with:\n",
    "#i) two instance variable: name, age.\n",
    "#ii) Create a parameterized constructor\n",
    "\n",
    "class person:\n",
    "    def __init__(self,name,age):\n",
    "        self.name = name \n",
    "        self.age = age \n",
    "    def display_info(self):\n",
    "        print(f\"Name:{self.name} \\nAge:{self.age}\")\n",
    "\n",
    "#Create a student class. Inherit person class in Student class.\n",
    "#Student class have:\n",
    "#i) instance variable: rollno and stream.\n",
    "#ii) Create a parameterized constructor to initialize all instance variables of student class as well as Person class\n",
    "#iii)Instance method: display() to print name, age, rollno and stream\n",
    "#Create an object of Student class and call display method\n",
    "\n",
    "class student(person):\n",
    "    def __init__(self,name,age,roll_no,stream):\n",
    "        super().__init__(name,age)\n",
    "        self.roll_no = roll_no\n",
    "        self.stream = stream\n",
    "    def display_student_info(self):\n",
    "        self.display_info()\n",
    "        print(f\"Roll No.:{self.roll_no} \\nStream:{self.stream}\")\n",
    "student1 = student(\"Alice\",16,21,\"Science\")\n",
    "student1.display_student_info()\n",
    "\n"
   ]
  },
  {
   "cell_type": "code",
   "execution_count": 2,
   "metadata": {},
   "outputs": [
    {
     "name": "stdout",
     "output_type": "stream",
     "text": [
      "Area:153.93804002589985\n",
      "Perimeter:43.982297150257104\n"
     ]
    }
   ],
   "source": [
    "#2 Write a Python class named Circle. Declare an instance variable, radius and two methods that will compute the area and the perimeter of a circle.\n",
    "\n",
    "import math\n",
    "class circle:\n",
    "    def __init__(self,radius):\n",
    "        self.radius = radius\n",
    "    \n",
    "    def area(self):\n",
    "        return math.pi*self.radius**2\n",
    "    \n",
    "    def perimeter(self):\n",
    "        return 2*math.pi*self.radius\n",
    "circle1 = circle(7)\n",
    "print(f\"Area:{circle1.area()}\\nPerimeter:{circle1.perimeter()}\")"
   ]
  },
  {
   "cell_type": "code",
   "execution_count": 3,
   "metadata": {},
   "outputs": [
    {
     "name": "stdout",
     "output_type": "stream",
     "text": [
      "Addition:22\n",
      "Substraction:2\n",
      "Multiplication:120\n",
      "Division:1.2\n"
     ]
    }
   ],
   "source": [
    "#3 Write a Python program to create a calculator class. Include methods for basic arithmetic operations.\n",
    "# IMPORTANT:-\n",
    "# We have use constructor(__init__) in which we have defined 'a' and 'b' with 'self.a' and 'self.b' that is why we need write (return self.a+self.b) etc.. but if we have not used constructor then we could have directly wrote (return a+b)\n",
    "#We don't need to use import module in this case\n",
    "\n",
    "class calculator:\n",
    "    def __init__(self,a,b):\n",
    "        self.a = a\n",
    "        self.b = b\n",
    "    def add(self):\n",
    "        return self.a+self.b \n",
    "    def sub(self):\n",
    "        return self.a-self.b \n",
    "    def mul(self):\n",
    "        return self.a*self.b \n",
    "    def div(self):\n",
    "        if self.b==0:\n",
    "            return \"Error: Division by Zero is undefined\"\n",
    "        return self.a/self.b \n",
    "\n",
    "calculator1 = calculator(12,10)\n",
    "print(f\"Addition:{calculator1.add()}\\nSubstraction:{calculator1.sub()}\\nMultiplication:{calculator1.mul()}\\nDivision:{calculator1.div()}\")\n"
   ]
  },
  {
   "cell_type": "code",
   "execution_count": 4,
   "metadata": {},
   "outputs": [
    {
     "name": "stdout",
     "output_type": "stream",
     "text": [
      "Added Apple in the cart of $2\n",
      "Added Mango in the cart of $5\n",
      "Items in the cart are:\n",
      "Apple:$2\n",
      "Mango:$5\n",
      "total:7\n",
      "Removed Mango from the cart\n",
      "Items in the cart are:\n",
      "Apple:$2\n",
      "total:2\n"
     ]
    }
   ],
   "source": [
    "#4 Write a Python program to create a class representing a shopping cart.Include methods for adding and removing items, and calculating the total price.\n",
    "\n",
    "class ShoppingCart:\n",
    "    def __init__(self):\n",
    "        self.items = []\n",
    "    def add_items(self,item_name,price):\n",
    "        self.items.append({\"Name\": item_name,\"Price\": price})\n",
    "        print(f\"Added {item_name} in the cart of ${price}\")\n",
    "    def remove_items(self,item_name):\n",
    "        for item in self.items:\n",
    "            if item[\"Name\"]==item_name:\n",
    "                self.items.remove(item)\n",
    "                print(f\"Removed {item_name} from the cart\")\n",
    "                return\n",
    "        print(\"Item not found\")\n",
    "    def calculate_total(self):\n",
    "        total = sum(item[\"Price\"]for item in self.items)\n",
    "        return total\n",
    "    def display_cart(self):\n",
    "        if not self.items:\n",
    "            print(\"The cart is empty\")\n",
    "        else:\n",
    "            print(\"Items in the cart are:\")\n",
    "            for item in self.items:\n",
    "                print(f\"{item[\"Name\"]}:${item[\"Price\"]}\")\n",
    "            print(f\"total:{self.calculate_total()}\")\n",
    "cart = ShoppingCart()\n",
    "cart.add_items(\"Apple\",2)\n",
    "cart.add_items(\"Mango\",5)\n",
    "cart.display_cart()\n",
    "cart.remove_items(\"Mango\")\n",
    "cart.display_cart()\n"
   ]
  },
  {
   "cell_type": "code",
   "execution_count": 5,
   "metadata": {},
   "outputs": [
    {
     "name": "stdout",
     "output_type": "stream",
     "text": [
      "Employee ID:E7876\n",
      "Employee Name:ADAMS\n",
      "Employee salary:50000\n",
      "Employee Department:ACCOUNTING\n",
      "ADAMS has been assigned to SALES department\n",
      "Total Salary (with overtime if applicable): $50000.00\n",
      "Employee ID:E7876\n",
      "Employee Name:ADAMS\n",
      "Employee salary:50000\n",
      "Employee Department:SALES\n",
      "Total Salary (with overtime if applicable): $55000.00\n",
      "Employee ID:E7876\n",
      "Employee Name:ADAMS\n",
      "Employee salary:55000.0\n",
      "Employee Department:SALES\n"
     ]
    }
   ],
   "source": [
    "#5 Write a Python class Employee with attributes like emp_id, emp_name,emp_salary, and emp_department and methods like calculate_emp_salary,emp_assign_department, and print_employee_details.\n",
    "#Sample Employee Data:\n",
    "#\"ADAMS\", \"E7876\", 50000, \"ACCOUNTING\"\n",
    "#\"JONES\", \"E7499\", 45000, \"RESEARCH\"\n",
    "#\"MARTIN\", \"E7900\", 50000, \"SALES\"\n",
    "#\"SMITH\", \"E7698\", 55000, \"OPERATIONS\"\n",
    "class Employee:\n",
    "    def __init__(self,emp_id,emp_name,emp_salary,emp_department=None):\n",
    "        self.emp_id = emp_id\n",
    "        self.emp_name = emp_name\n",
    "        self.emp_salary = emp_salary\n",
    "        self.emp_department = emp_department\n",
    "    def calculate_emp_salary(self,hours_worked):\n",
    "        if hours_worked>50:\n",
    "            salary = self.emp_salary/50\n",
    "            overtime = hours_worked-50\n",
    "            overtime_amount= (overtime*(salary))\n",
    "            total_salary = self.emp_salary+overtime_amount\n",
    "        else:\n",
    "            total_salary = self.emp_salary\n",
    "        self.emp_salary = total_salary\n",
    "        print(f\"Total Salary (with overtime if applicable): ${total_salary:.2f}\")\n",
    "    def emp_assign_department(self,new_department):\n",
    "        self.emp_department = new_department\n",
    "        print(f\"{self.emp_name} has been assigned to {self.emp_department} department\")\n",
    "    def display_employee_details(self):\n",
    "        print(f\"Employee ID:{self.emp_id}\")\n",
    "        print(f\"Employee Name:{self.emp_name}\")\n",
    "        print(f\"Employee salary:{self.emp_salary}\")\n",
    "        print(f\"Employee Department:{self.emp_department}\")\n",
    "a = Employee(emp_name=\"ADAMS\", emp_id=\"E7876\", emp_salary=50000, emp_department=\"ACCOUNTING\")\n",
    "a.display_employee_details()\n",
    "a.emp_assign_department(\"SALES\")\n",
    "a.calculate_emp_salary(0)\n",
    "a.display_employee_details()\n",
    "a.calculate_emp_salary(55)\n",
    "a.display_employee_details()"
   ]
  },
  {
   "cell_type": "code",
   "execution_count": 6,
   "metadata": {},
   "outputs": [
    {
     "name": "stdout",
     "output_type": "stream",
     "text": [
      "Account Number:198919782560\n",
      "Balance:300000\n",
      "Date of opening:1980-09-19\n",
      "Customer Name:Rishi\n",
      "$11000 deposited sucessfully\n",
      "20000 withdrawn succesfully\n",
      "Current balance: $291000\n",
      "Account Number:198919782560\n",
      "Balance:291000\n",
      "Date of opening:1980-09-19\n",
      "Customer Name:Rishi\n"
     ]
    }
   ],
   "source": [
    "#6 Write a Python class BankAccount with attributes like account_number,balance, date_of_opening and customer_name, and methods like deposit,withdraw, and check_balance.\n",
    "class BankAccount:\n",
    "    def __init__(self,account_number,balance,date_of_opening,customer_name):\n",
    "        self.account_number = account_number\n",
    "        self.balance = balance\n",
    "        self.date_of_opening = date_of_opening\n",
    "        self.customer_name = customer_name\n",
    "    def deposit(self,amount):\n",
    "        if amount>0:\n",
    "            self.balance += amount\n",
    "            print(f\"${amount} deposited sucessfully\")\n",
    "        else:\n",
    "            print(f\"Deposit amount must be positive\")\n",
    "    def withdraw(self,amount):\n",
    "        if amount>0:\n",
    "            if amount<=self.balance:\n",
    "                self.balance-=amount\n",
    "                print(f\"{amount} withdrawn succesfully\")\n",
    "            else:\n",
    "                print(\"Insufficent balance\")\n",
    "        else:\n",
    "            print(\"Withdrwal amount must be positive\")\n",
    "    def check_balance(self):\n",
    "        print(f\"Current balance: ${self.balance}\")\n",
    "    def display_BankAccount_details(self):\n",
    "        print(f\"Account Number:{self.account_number}\\nBalance:{self.balance}\\nDate of opening:{self.date_of_opening}\\nCustomer Name:{self.customer_name}\" )\n",
    "account = BankAccount(account_number=198919782560,balance=300000,date_of_opening=\"1980-09-19\",customer_name=\"Rishi\")\n",
    "account.display_BankAccount_details() \n",
    "account.deposit(11000)\n",
    "account.withdraw(20000)\n",
    "account.check_balance()\n",
    "account.display_BankAccount_details()"
   ]
  },
  {
   "cell_type": "code",
   "execution_count": 7,
   "metadata": {},
   "outputs": [
    {
     "name": "stdout",
     "output_type": "stream",
     "text": [
      "Colour: Orange\n",
      "Area: 50.26548245743669\n",
      "Colour: Blue\n",
      "Area: 120\n",
      "Colour: Brown\n",
      "Area: 11.0\n",
      "Colour: White\n",
      "Area: 121\n",
      "Colour: Red\n",
      "Area: 100\n"
     ]
    }
   ],
   "source": [
    "#7 Create a class hierarchy for different types of geometric shapes, including circles, rectangles, and triangles, using inheritance.\n",
    "#Tasks:\n",
    "#A. Define a base class called Shape with common attributes like colour and area.\n",
    "#B. Implement subclasses for specific shape types such as Circle, Rectangle, and Triangle. Each subclass should inherit from the Shape class.\n",
    "#$C. Incorporate additional attributes and methods specific to each shape type. For example, a Circle class might have attributes like radius and methods like calculate_area.\n",
    "#D. Use inheritance to create subclasses representing variations within each shape type. For example, within the Rectangle class, create subclasses for Square and Parallelogram.\n",
    "#E. Implement methods or attributes in the subclasses to demonstrate how inheritance allows for the sharing of attributes and methods from parent classes.\n",
    "#F. Create instances of the various shape classes and test their functionality to ensure that attributes and methods work as expected.\n",
    "\n",
    "import math\n",
    "#A. Define a Parent or Base class\n",
    "class Shapes:\n",
    "    def __init__(self,colour=\"Transperant\"):\n",
    "        self.colour = colour\n",
    "        self.area = 0 #Area is set up to zero\n",
    "    def display_info(self):\n",
    "        #Display the shape's colour and area\n",
    "        print(f\"Colour: {self.colour}\\nArea: {self.area}\")\n",
    "\n",
    "#B. Implement subclasses for specific shaps\n",
    "#Circle subclass ineriting from shapes\n",
    "class Circle(Shapes):\n",
    "    def __init__(self,radius,colour = \"Transperent\"):\n",
    "        super().__init__(colour) #calls the shape's constructor with colour of the shape\n",
    "        self.radius = radius\n",
    "    def calculate_area(self):\n",
    "        self.area = math.pi*(self.radius**2)\n",
    "\n",
    "class Rectangle(Shapes):\n",
    "    def __init__(self,length,breadth,colour=\"Transperant\"):\n",
    "        super().__init__(colour)\n",
    "        self.length = length \n",
    "        self.breadth = breadth\n",
    "    def calculate_area(self):\n",
    "        self.area = self.length*self.breadth\n",
    "\n",
    "class Triangle(Shapes):\n",
    "    def __init__(self,base,height,colour=\"Transperant\"):\n",
    "        super().__init__(colour)\n",
    "        self.base = base\n",
    "        self.height = height\n",
    "    def calculate_area(self):\n",
    "        self.area = self.base*self.height*0.5\n",
    "\n",
    "class Square(Rectangle):\n",
    "    def __init__(self,side,colour=\"Transperant\"):\n",
    "        super().__init__(side,side,colour)\n",
    "\n",
    "class Parallelogram(Rectangle):\n",
    "    def __init__(self,base,height,colour=\"Transperant\"):\n",
    "        super().__init__(base,height,colour)\n",
    "\n",
    "circle = Circle(radius=4,colour=\"Orange\")\n",
    "circle.calculate_area()\n",
    "circle.display_info()\n",
    "\n",
    "rectangle = Rectangle(length=12,breadth=10,colour=\"Blue\")\n",
    "rectangle.calculate_area()\n",
    "rectangle.display_info()\n",
    "\n",
    "triangle = Triangle(base=11,height=2,colour=\"Brown\")\n",
    "triangle.calculate_area()\n",
    "triangle.display_info()\n",
    "\n",
    "square = Square(side=11,colour=\"White\")\n",
    "square.calculate_area()\n",
    "square.display_info()\n",
    "\n",
    "parallelogram = Parallelogram(base=20,height=5,colour=\"Red\")\n",
    "parallelogram.calculate_area()\n",
    "parallelogram.display_info()"
   ]
  },
  {
   "cell_type": "code",
   "execution_count": 8,
   "metadata": {},
   "outputs": [
    {
     "name": "stdout",
     "output_type": "stream",
     "text": [
      "Error: The file sample.txt was not found.\n"
     ]
    }
   ],
   "source": [
    "#8 WAP to find the number of words in the given text file\n",
    "def count_words_in_file(filename):\n",
    "    try:\n",
    "        with open(filename,'r') as file:\n",
    "            content = file.read()\n",
    "            words = content.split()\n",
    "            words_count = len(words)\n",
    "            print(f\"The number of words in {filename} is:{words_count}\")\n",
    "    except FileNotFoundError:\n",
    "        print(f\"Error: The file {filename} was not found.\")\n",
    "\n",
    "filename = 'sample.txt'\n",
    "count_words_in_file(filename)"
   ]
  },
  {
   "cell_type": "code",
   "execution_count": 9,
   "metadata": {},
   "outputs": [
    {
     "name": "stdout",
     "output_type": "stream",
     "text": [
      "Happy Programming\n"
     ]
    }
   ],
   "source": [
    "#9 Write a program to write “Happy Programming” in a text file and read it\n",
    "with open(\"sample.txt\",'w+') as f:\n",
    "    a = \"Happy Programming\"\n",
    "    f.write(a)\n",
    "    f.seek(0)\n",
    "    print(f.read())"
   ]
  },
  {
   "cell_type": "code",
   "execution_count": 10,
   "metadata": {},
   "outputs": [
    {
     "name": "stdout",
     "output_type": "stream",
     "text": [
      "Using read()\n",
      "Hello, World!\n",
      "This is a Sample text file.\n",
      "It conatins multiple lines.\n",
      "Each line demonstrate different read function.\n",
      "------------------\n",
      "Using read(n)\n",
      "Hello, World!\n",
      "T\n",
      "------------------\n",
      "Using readline()\n",
      "Hello, World!\n",
      "This is a Sample text file.\n",
      "------------------\n",
      "Using readlines()\n",
      "['Hello, World!\\n', 'This is a Sample text file.\\n', 'It conatins multiple lines.\\n', 'Each line demonstrate different read function.']\n",
      "-----------------\n"
     ]
    }
   ],
   "source": [
    "#10 WAP to demonstrate the working of the following functions:\n",
    "#i) read()\n",
    "#ii) read(n)\n",
    "#iii)readline()\n",
    "#iv) readlines()\n",
    "\n",
    "with open(\"Sample.txt\",'w') as f:\n",
    "    f.write(\"Hello, World!\\n\")\n",
    "    f.write(\"This is a Sample text file.\\n\")\n",
    "    f.write(\"It conatins multiple lines.\\n\")\n",
    "    f.write(\"Each line demonstrate different read function.\")\n",
    "\n",
    "with open(\"sample.txt\",'r') as f:\n",
    "    #1 Using read()\n",
    "    print(\"Using read()\")\n",
    "    a = f.read()\n",
    "    print(a)\n",
    "    print(\"------------------\")\n",
    "\n",
    "    f.seek(0)\n",
    "    #2 Using read(n)\n",
    "    print(\"Using read(n)\")\n",
    "    b = f.read(15)\n",
    "    print(b)\n",
    "    print(\"------------------\")\n",
    "\n",
    "    f.seek(0)\n",
    "    #3 Using readline()\n",
    "    print(\"Using readline()\")\n",
    "    line1 = f.readline()\n",
    "    print(line1,end=\"\")\n",
    "    line2 = f.readline()\n",
    "    print(line2,end=\"\")\n",
    "    print(\"------------------\")\n",
    "\n",
    "    f.seek(0)\n",
    "    #4 Using readlines()\n",
    "    print(\"Using readlines()\")\n",
    "    lines = f.readlines()\n",
    "    print(lines)\n",
    "    print(\"-----------------\")"
   ]
  },
  {
   "cell_type": "code",
   "execution_count": 11,
   "metadata": {},
   "outputs": [
    {
     "name": "stdout",
     "output_type": "stream",
     "text": [
      "Content written using write()\n",
      "Content written using writelines()\n"
     ]
    }
   ],
   "source": [
    "#11 11.WAP that exhibits the working of the following functions:\n",
    "#i. write()\n",
    "#ii. writelines()\n",
    "with open(\"t_write.txt\",'w') as f:\n",
    "    a = \"Hello, Miss Shweta\"\n",
    "    f.write(a)\n",
    "    f.write(\"\\nThis is another line.\")\n",
    "print(\"Content written using write()\")\n",
    "\n",
    "with open(\"t_writelines.txt\",'w') as f:\n",
    "    lines = [\"First line: This is the first line.\\n\",\"Second line: This is the second line.\\n\",\"Third line: This is the third line.\\n\"]\n",
    "    f.writelines(lines)\n",
    "print(\"Content written using writelines()\")"
   ]
  },
  {
   "cell_type": "code",
   "execution_count": 12,
   "metadata": {},
   "outputs": [
    {
     "name": "stdout",
     "output_type": "stream",
     "text": [
      "Hello, World!\n",
      "This is a Sample text file.\n"
     ]
    }
   ],
   "source": [
    "#12 Write a Python program to read first n lines of a file.\n",
    "def read_first_n_lines(filename,n):\n",
    "    try:\n",
    "        with open(filename,'r') as f:\n",
    "            for line in range(n):\n",
    "                line = f.readline()\n",
    "                if line=='':\n",
    "                    break\n",
    "                print(line,end=\"\")\n",
    "    except FileNotFoundError:\n",
    "        print(f\"Error: The file {filename} was not found.\")\n",
    "\n",
    "read_first_n_lines(\"sample.txt\",2)"
   ]
  },
  {
   "cell_type": "code",
   "execution_count": 13,
   "metadata": {},
   "outputs": [
    {
     "name": "stdout",
     "output_type": "stream",
     "text": [
      "Hello, World!\n",
      "This is a Sample text file.\n",
      "It conatins multiple lines.\n",
      "Each line demonstrate different read function.\n",
      "This is the appended text.\n"
     ]
    }
   ],
   "source": [
    "#13 Write a Python program to append text to a file and display the text.\n",
    "text_to_append = \"\\nThis is the appended text.\"\n",
    "with open(\"sample.txt\",'a+') as f:\n",
    "    f.write(text_to_append)\n",
    "    f.seek(0)\n",
    "    print(f.read())"
   ]
  },
  {
   "cell_type": "code",
   "execution_count": 14,
   "metadata": {},
   "outputs": [
    {
     "name": "stdout",
     "output_type": "stream",
     "text": [
      "This is a Sample text file.\n",
      "It conatins multiple lines.\n",
      "Each line demonstrate different read function.\n",
      "This is the appended text."
     ]
    }
   ],
   "source": [
    "#14 Write a Python program to read last n lines of a file.\n",
    "def read_last_n_lines(filename,n):\n",
    "    try:\n",
    "        with open(filename,'r') as f:\n",
    "            lines = f.readlines()\n",
    "            last_n_lines = lines[-n:]\n",
    "            for line in last_n_lines:\n",
    "                print(line,end=\"\")\n",
    "    except FileNotFoundError:\n",
    "        print(f\"Error: The file {filename} was not found\")\n",
    "\n",
    "read_last_n_lines('sample.txt',4)"
   ]
  },
  {
   "cell_type": "code",
   "execution_count": 15,
   "metadata": {},
   "outputs": [
    {
     "name": "stdout",
     "output_type": "stream",
     "text": [
      "Files content as list:\n",
      "['Hello, World!', 'This is a Sample text file.', 'It conatins multiple lines.', 'Each line demonstrate different read function.', 'This is the appended text.']\n"
     ]
    }
   ],
   "source": [
    "#15 Write a Python program to read a file line by line and store it into a list.\n",
    "def files_to_list(filename):\n",
    "    lines=[]\n",
    "    try:\n",
    "        with open(filename,'r') as f:\n",
    "            for line in f:\n",
    "                lines.append(line.strip())\n",
    "        return lines\n",
    "    except FileNotFoundError:\n",
    "        print(f\"The file {filename} was not found\")\n",
    "        return[]\n",
    "print(\"Files content as list:\")\n",
    "t = files_to_list(\"sample.txt\")\n",
    "print(t)\n"
   ]
  },
  {
   "cell_type": "code",
   "execution_count": 16,
   "metadata": {},
   "outputs": [
    {
     "name": "stdout",
     "output_type": "stream",
     "text": [
      "The result when we divide 12 by 6 is 2.0\n",
      "Execution of divide_numbers function is completed\n",
      "Error: Division by zero is not allowed\n",
      "Execution of divide_numbers function is completed\n"
     ]
    }
   ],
   "source": [
    "#16 Write a program to exhibit these concepts:\n",
    "#i. try\n",
    "#ii. except\n",
    "#iii. finally\n",
    "\n",
    "def divide_numbers(a,b):\n",
    "    try:\n",
    "        result=a/b\n",
    "        print(f\"The result when we divide {a} by {b} is {result}\")\n",
    "    except ZeroDivisionError:\n",
    "        print(\"Error: Division by zero is not allowed\")\n",
    "    finally:\n",
    "        print(\"Execution of divide_numbers function is completed\")\n",
    "divide_numbers(12,6)\n",
    "divide_numbers(10,0)"
   ]
  },
  {
   "cell_type": "code",
   "execution_count": 17,
   "metadata": {},
   "outputs": [
    {
     "name": "stdout",
     "output_type": "stream",
     "text": [
      "Error: Division by zero is not allowed \n"
     ]
    }
   ],
   "source": [
    "#17 Write a Python program to handle a ZeroDivisionError exception when dividing a number by zero.\n",
    "def divide_numbers(a,b):\n",
    "    try:\n",
    "        result = a/b\n",
    "        print(f\"The result of division of {a} by {b} is {result}\")\n",
    "    except ZeroDivisionError:\n",
    "        print(\"Error: Division by zero is not allowed \")\n",
    "divide_numbers(5,0)"
   ]
  },
  {
   "cell_type": "code",
   "execution_count": 18,
   "metadata": {},
   "outputs": [
    {
     "name": "stdout",
     "output_type": "stream",
     "text": [
      "You entered the integer: 13\n"
     ]
    }
   ],
   "source": [
    "#18.Write a Python program that prompts the user to input an integer and raises a ValueError exception if the input is not a valid integer.\n",
    "def input_integer():\n",
    "    try:\n",
    "        a = int(input(\"Enter an value:\"))\n",
    "        print(f\"You entered the integer: {a}\")\n",
    "    except ValueError:\n",
    "        print(\"Error: This is not a valid integer. Enter a valid integer\")\n",
    "input_integer()"
   ]
  },
  {
   "cell_type": "code",
   "execution_count": 19,
   "metadata": {},
   "outputs": [
    {
     "name": "stdout",
     "output_type": "stream",
     "text": [
      "1.8571428571428572\n"
     ]
    }
   ],
   "source": [
    "#19.WAP that exhibits multiple except blocks along with default block\n",
    "try:\n",
    "    x,y = input(\"Enter two numbers:\").split()\n",
    "    x = int(x)\n",
    "    y = int(y)\n",
    "    print(x/y)\n",
    "except ZeroDivisionError as msg:\n",
    "    print(\"y shoul not be zero\",msg)\n",
    "except ValueError as msg:\n",
    "    print(\"Type inappropriate\",msg)\n",
    "except:\n",
    "    print(\"Other Errors\")"
   ]
  },
  {
   "cell_type": "code",
   "execution_count": 20,
   "metadata": {},
   "outputs": [
    {
     "name": "stdout",
     "output_type": "stream",
     "text": [
      "1.8571428571428572\n"
     ]
    }
   ],
   "source": [
    "#20.WAP that exhibits except blocks that can catch multiple exceptions.\n",
    "try:\n",
    "    a,b=input(\"Enter two integer:\").split()\n",
    "    a = int(a)\n",
    "    b = int(b)\n",
    "    print(a/b)\n",
    "except (ZeroDivisionError,ValueError) as msg:\n",
    "    print(msg)"
   ]
  },
  {
   "cell_type": "code",
   "execution_count": 21,
   "metadata": {},
   "outputs": [
    {
     "name": "stdout",
     "output_type": "stream",
     "text": [
      "[2, 4, 6, 8, 10]\n"
     ]
    }
   ],
   "source": [
    "#21.WAP to demonstrate how to use lambda in map() function.\n",
    "L = [1,2,3,4,5]\n",
    "doubler = map(lambda x:x*2,L)\n",
    "print(list(doubler))"
   ]
  },
  {
   "cell_type": "code",
   "execution_count": 22,
   "metadata": {},
   "outputs": [
    {
     "name": "stdout",
     "output_type": "stream",
     "text": [
      "[19, 40, 21]\n"
     ]
    }
   ],
   "source": [
    "#22.WAP to demonstrate how to use lambda in filter() function.\n",
    "age = [13,5,19,40,21]\n",
    "adults = filter(lambda x:x>18,age)\n",
    "print(list(adults))"
   ]
  },
  {
   "cell_type": "code",
   "execution_count": 23,
   "metadata": {},
   "outputs": [
    {
     "name": "stdout",
     "output_type": "stream",
     "text": [
      "[12, 3, 2, 9, 7, 5, 4]\n",
      "Odd number: [3, 9, 7, 5]\n",
      "Even number: [12, 2, 4]\n"
     ]
    }
   ],
   "source": [
    "#23.Write a Python program to filter a list of integers into list of even numbers and list of odd numbers using Lambda.\n",
    "integers = [12,3,2,9,7,5,4]\n",
    "even_number = list(filter(lambda x:x%2==0,integers))\n",
    "odd_number = list(filter(lambda x:x%2!=0,integers))\n",
    "print(integers)\n",
    "print(\"Odd number:\",odd_number)\n",
    "print(\"Even number:\",even_number)"
   ]
  },
  {
   "cell_type": "code",
   "execution_count": 24,
   "metadata": {},
   "outputs": [
    {
     "name": "stdout",
     "output_type": "stream",
     "text": [
      "Square of every number in the list integers is: [1, 25, 81, 144, 225]\n",
      "Cube of every number in the list integers is: [1, 125, 729, 1728, 3375]\n"
     ]
    }
   ],
   "source": [
    "#24.Write a Python program to square and cube every number in a given list of integers using Lambda.\n",
    "integers = [1,5,9,12,15]\n",
    "Square_number = list(map(lambda x:x**2,integers))\n",
    "Cube_number = list(map(lambda x:x**3,integers))\n",
    "print(\"Square of every number in the list integers is:\",Square_number)\n",
    "print(\"Cube of every number in the list integers is:\",Cube_number)"
   ]
  },
  {
   "cell_type": "code",
   "execution_count": 25,
   "metadata": {},
   "outputs": [
    {
     "name": "stdout",
     "output_type": "stream",
     "text": [
      "13+15 = 28\n"
     ]
    }
   ],
   "source": [
    "#25.Write a Python program to create a lambda function that adds 15 to a given number passed in as an argument.\n",
    "add_15 = lambda x: x+15\n",
    "num = int(input(\"Enter a number:\"))\n",
    "result = add_15(num)\n",
    "print(f\"{num}+15 = {result}\")"
   ]
  },
  {
   "cell_type": "code",
   "execution_count": 26,
   "metadata": {},
   "outputs": [
    {
     "name": "stdout",
     "output_type": "stream",
     "text": [
      "13*31=403\n"
     ]
    }
   ],
   "source": [
    "#26.Create a lambda function that multiplies argument x with argument y and prints the result.\n",
    "x,y = input(\"Enter two integers:\").split()\n",
    "x = int(x)\n",
    "y = int(y)\n",
    "multiply_x_y = lambda x,y:x*y\n",
    "n = multiply_x_y(x,y)\n",
    "print(f\"{x}*{y}={n}\")"
   ]
  },
  {
   "cell_type": "code",
   "execution_count": null,
   "metadata": {},
   "outputs": [],
   "source": []
  }
 ],
 "metadata": {
  "kernelspec": {
   "display_name": "Python 3",
   "language": "python",
   "name": "python3"
  },
  "language_info": {
   "codemirror_mode": {
    "name": "ipython",
    "version": 3
   },
   "file_extension": ".py",
   "mimetype": "text/x-python",
   "name": "python",
   "nbconvert_exporter": "python",
   "pygments_lexer": "ipython3",
   "version": "3.12.6"
  }
 },
 "nbformat": 4,
 "nbformat_minor": 2
}
