{
 "cells": [
  {
   "cell_type": "code",
   "execution_count": 1,
   "metadata": {},
   "outputs": [
    {
     "name": "stdout",
     "output_type": "stream",
     "text": [
      "No. of Upper case characters: 3\n",
      "No. of Lower case Characters: 12\n"
     ]
    }
   ],
   "source": [
    "def count_case(s):\n",
    "    upper_count = sum(1 for char in s if char.isupper())\n",
    "    lower_count = sum(1 for char in s if char.islower())\n",
    "    return upper_count, lower_count\n",
    "\n",
    "# Sample usage\n",
    "sample_string = 'The quick Brow Fox'\n",
    "upper, lower = count_case(sample_string)\n",
    "print(f'No. of Upper case characters: {upper}')\n",
    "print(f'No. of Lower case Characters: {lower}')\n"
   ]
  },
  {
   "cell_type": "code",
   "execution_count": 2,
   "metadata": {},
   "outputs": [
    {
     "name": "stdout",
     "output_type": "stream",
     "text": [
      "Unique List: [1, 2, 3, 4, 5]\n"
     ]
    }
   ],
   "source": [
    "def unique_elements(lst):\n",
    "    return list(set(lst))\n",
    "\n",
    "sample_list = [1, 2, 3, 3, 3, 3, 4, 5]\n",
    "unique_list = unique_elements(sample_list)\n",
    "print(f'Unique List: {unique_list}')\n"
   ]
  },
  {
   "cell_type": "code",
   "execution_count": 13,
   "metadata": {},
   "outputs": [
    {
     "name": "stdout",
     "output_type": "stream",
     "text": [
      "6 is Perfect: True\n"
     ]
    }
   ],
   "source": [
    "def is_perfect_number(n):\n",
    "    if n < 1:\n",
    "        return False\n",
    "    divisors_sum = sum(i for i in range(1, n) if n % i == 0)\n",
    "    return divisors_sum == n\n",
    "\n",
    "number = 6\n",
    "print(f'{number} is Perfect: {is_perfect_number(number)}')\n"
   ]
  },
  {
   "cell_type": "code",
   "execution_count": 4,
   "metadata": {},
   "outputs": [
    {
     "name": "stdout",
     "output_type": "stream",
     "text": [
      "Sorted Words: black-green-red-white-yellow\n"
     ]
    }
   ],
   "source": [
    "def sort_hyphenated_words(words):\n",
    "    sorted_words = sorted(words.split('-'))\n",
    "    return '-'.join(sorted_words)\n",
    "\n",
    "input_words = 'green-red-yellow-black-white'\n",
    "sorted_sequence = sort_hyphenated_words(input_words)\n",
    "print(f'Sorted Words: {sorted_sequence}')\n"
   ]
  },
  {
   "cell_type": "code",
   "execution_count": 7,
   "metadata": {},
   "outputs": [
    {
     "name": "stdout",
     "output_type": "stream",
     "text": [
      "21\n"
     ]
    }
   ],
   "source": [
    "def positional_arguments(a, b, c):\n",
    "    return a + b + c\n",
    "\n",
    "print(positional_arguments(6, 7, 8))\n"
   ]
  },
  {
   "cell_type": "code",
   "execution_count": 8,
   "metadata": {},
   "outputs": [
    {
     "name": "stdout",
     "output_type": "stream",
     "text": [
      "336\n"
     ]
    }
   ],
   "source": [
    "def keyword_arguments(a, b, c):\n",
    "    return a * b * c\n",
    "\n",
    "print(keyword_arguments(c=6, a=7, b=8))  # Order doesn't matter"
   ]
  },
  {
   "cell_type": "code",
   "execution_count": 14,
   "metadata": {},
   "outputs": [
    {
     "name": "stdout",
     "output_type": "stream",
     "text": [
      "14\n",
      "21\n"
     ]
    }
   ],
   "source": [
    "def mixed_arguments(a, b, c=1):\n",
    "    return a + b + c\n",
    "\n",
    "print(mixed_arguments(6, 7))        # Using default for c\n",
    "print(mixed_arguments(6, 7, 8))     # Overriding default for c\n"
   ]
  },
  {
   "cell_type": "code",
   "execution_count": 15,
   "metadata": {},
   "outputs": [
    {
     "name": "stdout",
     "output_type": "stream",
     "text": [
      "Hello, sam!\n",
      "Hi, Bro!\n"
     ]
    }
   ],
   "source": [
    "def greet(name, greeting=\"Hello\"):\n",
    "    return f\"{greeting}, {name}!\"\n",
    "\n",
    "print(greet(\"sam\"))                # Uses default greeting\n",
    "print(greet(\"Bro\", \"Hi\"))            # Uses custom greeting\n"
   ]
  },
  {
   "cell_type": "code",
   "execution_count": 16,
   "metadata": {},
   "outputs": [
    {
     "name": "stdout",
     "output_type": "stream",
     "text": [
      "10\n"
     ]
    }
   ],
   "source": [
    "def variable_length_args(*args):\n",
    "    return sum(args)\n",
    "\n",
    "print(variable_length_args(1, 2, 3, 4))  # Outputs: 10\n"
   ]
  },
  {
   "cell_type": "code",
   "execution_count": 19,
   "metadata": {},
   "outputs": [
    {
     "name": "stdout",
     "output_type": "stream",
     "text": [
      "{'a': 6, 'b': 7, 'c': 8}\n"
     ]
    }
   ],
   "source": [
    "def variable_length_kwargs(**kwargs):\n",
    "    return {key: value for key, value in kwargs.items()}\n",
    "\n",
    "print(variable_length_kwargs(a=6, b=7, c=8)) \n"
   ]
  },
  {
   "cell_type": "code",
   "execution_count": 20,
   "metadata": {},
   "outputs": [
    {
     "name": "stdout",
     "output_type": "stream",
     "text": [
      "List after removing duplicates: [1, 2, 3, 4, 5]\n"
     ]
    }
   ],
   "source": [
    "#LIST\n",
    "\n",
    "def remove_duplicates(lst):\n",
    "    return list(set(lst))\n",
    "\n",
    "sample_list = [1, 2, 3, 3, 4, 5, 5]\n",
    "print(f'List after removing duplicates: {remove_duplicates(sample_list)}')\n"
   ]
  },
  {
   "cell_type": "code",
   "execution_count": 21,
   "metadata": {},
   "outputs": [
    {
     "name": "stdout",
     "output_type": "stream",
     "text": [
      "Common member exists: True\n"
     ]
    }
   ],
   "source": [
    "def have_common_member(list1, list2):\n",
    "    return any(item in list1 for item in list2)\n",
    "\n",
    "list1 = [1, 2, 3]\n",
    "list2 = [3, 4, 5]\n",
    "print(f'Common member exists: {have_common_member(list1, list2)}')\n"
   ]
  },
  {
   "cell_type": "code",
   "execution_count": 22,
   "metadata": {},
   "outputs": [
    {
     "name": "stdout",
     "output_type": "stream",
     "text": [
      "Odd numbers: [1, 3, 5, 7, 9]\n"
     ]
    }
   ],
   "source": [
    "def remove_even_numbers(lst):\n",
    "    return [num for num in lst if num % 2 != 0]\n",
    "\n",
    "sample_list = [1, 2, 3, 4, 5, 6, 7, 8, 9]\n",
    "print(f'Odd numbers: {remove_even_numbers(sample_list)}')\n"
   ]
  },
  {
   "cell_type": "code",
   "execution_count": 23,
   "metadata": {},
   "outputs": [
    {
     "name": "stdout",
     "output_type": "stream",
     "text": [
      "Second smallest number: 2\n"
     ]
    }
   ],
   "source": [
    "def second_smallest(lst):\n",
    "    unique_sorted = sorted(set(lst))\n",
    "    if len(unique_sorted) >= 2:\n",
    "        return unique_sorted[1]\n",
    "    else:\n",
    "        return None\n",
    "\n",
    "sample_list = [3, 1, 4, 1, 5, 9, 2]\n",
    "print(f'Second smallest number: {second_smallest(sample_list)}')\n"
   ]
  },
  {
   "cell_type": "code",
   "execution_count": 25,
   "metadata": {},
   "outputs": [
    {
     "name": "stdout",
     "output_type": "stream",
     "text": [
      "Split list every 3 elements: [[11, 12, 13], [14, 15, 16], [17, 18, 19]]\n"
     ]
    }
   ],
   "source": [
    "def split_every_n(lst, n):\n",
    "    return [lst[i:i+n] for i in range(0, len(lst), n)]\n",
    "\n",
    "sample_list = [11, 12, 13, 14, 15, 16, 17, 18, 19]\n",
    "n = 3\n",
    "print(f'Split list every {n} elements: {split_every_n(sample_list, n)}')\n"
   ]
  },
  {
   "cell_type": "code",
   "execution_count": 27,
   "metadata": {},
   "outputs": [
    {
     "name": "stdout",
     "output_type": "stream",
     "text": [
      "Union: [11, 12, 13, 14, 15, 16], Intersection: [13, 14]\n"
     ]
    }
   ],
   "source": [
    "def union_and_intersection(list1, list2):\n",
    "    union = list(set(list1) | set(list2))\n",
    "    intersection = list(set(list1) & set(list2))\n",
    "    return union, intersection\n",
    "\n",
    "list1 = [11, 12, 13, 14]\n",
    "list2 = [13,14, 15, 16]\n",
    "union, intersection = union_and_intersection(list1, list2)\n",
    "print(f'Union: {union}, Intersection: {intersection}')\n"
   ]
  },
  {
   "cell_type": "code",
   "execution_count": 28,
   "metadata": {},
   "outputs": [
    {
     "name": "stdout",
     "output_type": "stream",
     "text": [
      "Is the list a palindrome? True\n"
     ]
    }
   ],
   "source": [
    "def is_palindrome(lst):\n",
    "    return lst == lst[::-1]\n",
    "\n",
    "sample_list = [1, 2, 3, 2, 1]\n",
    "print(f'Is the list a palindrome? {is_palindrome(sample_list)}')\n"
   ]
  },
  {
   "cell_type": "code",
   "execution_count": 30,
   "metadata": {},
   "outputs": [
    {
     "name": "stdout",
     "output_type": "stream",
     "text": [
      "\n",
      "Menu:\n",
      "1. Insert element\n",
      "2. Delete element\n",
      "3. Access element\n",
      "4. Update element\n",
      "5. Traverse list\n",
      "6. Exit\n"
     ]
    },
    {
     "ename": "ValueError",
     "evalue": "invalid literal for int() with base 10: ''",
     "output_type": "error",
     "traceback": [
      "\u001b[0;31m---------------------------------------------------------------------------\u001b[0m",
      "\u001b[0;31mValueError\u001b[0m                                Traceback (most recent call last)",
      "Cell \u001b[0;32mIn[30], line 34\u001b[0m\n\u001b[1;32m     31\u001b[0m         \u001b[38;5;28;01melse\u001b[39;00m:\n\u001b[1;32m     32\u001b[0m             \u001b[38;5;28mprint\u001b[39m(\u001b[38;5;124m\"\u001b[39m\u001b[38;5;124mInvalid choice. Please try again.\u001b[39m\u001b[38;5;124m\"\u001b[39m)\n\u001b[0;32m---> 34\u001b[0m \u001b[43mmenu\u001b[49m\u001b[43m(\u001b[49m\u001b[43m)\u001b[49m\n",
      "Cell \u001b[0;32mIn[30], line 12\u001b[0m, in \u001b[0;36mmenu\u001b[0;34m()\u001b[0m\n\u001b[1;32m      9\u001b[0m \u001b[38;5;28mprint\u001b[39m(\u001b[38;5;124m\"\u001b[39m\u001b[38;5;124m5. Traverse list\u001b[39m\u001b[38;5;124m\"\u001b[39m)\n\u001b[1;32m     10\u001b[0m \u001b[38;5;28mprint\u001b[39m(\u001b[38;5;124m\"\u001b[39m\u001b[38;5;124m6. Exit\u001b[39m\u001b[38;5;124m\"\u001b[39m)\n\u001b[0;32m---> 12\u001b[0m choice \u001b[38;5;241m=\u001b[39m \u001b[38;5;28;43mint\u001b[39;49m\u001b[43m(\u001b[49m\u001b[38;5;28;43minput\u001b[39;49m\u001b[43m(\u001b[49m\u001b[38;5;124;43m\"\u001b[39;49m\u001b[38;5;124;43mEnter your choice: \u001b[39;49m\u001b[38;5;124;43m\"\u001b[39;49m\u001b[43m)\u001b[49m\u001b[43m)\u001b[49m\n\u001b[1;32m     14\u001b[0m \u001b[38;5;28;01mif\u001b[39;00m choice \u001b[38;5;241m==\u001b[39m \u001b[38;5;241m1\u001b[39m:\n\u001b[1;32m     15\u001b[0m     element \u001b[38;5;241m=\u001b[39m \u001b[38;5;28minput\u001b[39m(\u001b[38;5;124m\"\u001b[39m\u001b[38;5;124mEnter element to insert: \u001b[39m\u001b[38;5;124m\"\u001b[39m)\n",
      "\u001b[0;31mValueError\u001b[0m: invalid literal for int() with base 10: ''"
     ]
    }
   ],
   "source": [
    "def menu():\n",
    "    lst = []\n",
    "    while True:\n",
    "        print(\"\\nMenu:\")\n",
    "        print(\"1. Insert element\")\n",
    "        print(\"2. Delete element\")\n",
    "        print(\"3. Access element\")\n",
    "        print(\"4. Update element\")\n",
    "        print(\"5. Traverse list\")\n",
    "        print(\"6. Exit\")\n",
    "        \n",
    "        choice = int(input(\"Enter your choice: \"))\n",
    "        \n",
    "        if choice == 1:\n",
    "            element = input(\"Enter element to insert: \")\n",
    "            lst.append(element)\n",
    "        elif choice == 2:\n",
    "            element = input(\"Enter element to delete: \")\n",
    "            lst.remove(element) if element in lst else print(\"Element not found.\")\n",
    "        elif choice == 3:\n",
    "            index = int(input(\"Enter index to access: \"))\n",
    "            print(f'Element at index {index}: {lst[index]}')\n",
    "        elif choice == 4:\n",
    "            index = int(input(\"Enter index to update: \"))\n",
    "            new_value = input(\"Enter new value: \")\n",
    "            lst[index] = new_value\n",
    "        elif choice == 5:\n",
    "            print(f'List elements: {lst}')\n",
    "        elif choice == 6:\n",
    "            break\n",
    "        else:\n",
    "            print(\"Invalid choice. Please try again.\")\n",
    "\n",
    "menu()\n"
   ]
  },
  {
   "cell_type": "code",
   "execution_count": 31,
   "metadata": {},
   "outputs": [
    {
     "name": "stdout",
     "output_type": "stream",
     "text": [
      "Access element [1][2]: 6\n",
      "After adding 10 to the first sublist: [[1, 2, 3, 10], [4, 5, 6], [7, 8, 9]]\n",
      "After modifying second element of third sublist: [[1, 2, 3, 10], [4, 5, 6], [7, 20, 9]]\n",
      "After deleting first element of second sublist: [[1, 2, 3, 10], [5, 6], [7, 20, 9]]\n"
     ]
    }
   ],
   "source": [
    "nested_list = [[1, 2, 3], [4, 5, 6], [7, 8, 9]]\n",
    "\n",
    "# Accessing an element\n",
    "print(f'Access element [1][2]: {nested_list[1][2]}')  # Outputs 6\n",
    "\n",
    "# Adding an element\n",
    "nested_list[0].append(10)\n",
    "print(f'After adding 10 to the first sublist: {nested_list}')\n",
    "\n",
    "# Modifying an element\n",
    "nested_list[2][1] = 20\n",
    "print(f'After modifying second element of third sublist: {nested_list}')\n",
    "\n",
    "# Deleting an element\n",
    "del nested_list[1][0]\n",
    "print(f'After deleting first element of second sublist: {nested_list}')\n"
   ]
  },
  {
   "cell_type": "code",
   "execution_count": 32,
   "metadata": {},
   "outputs": [
    {
     "name": "stdout",
     "output_type": "stream",
     "text": [
      "Complete list: [10, 20, 30, 40, 50, 60, 70, 80, 90, 100]\n",
      "4th element: 40\n",
      "List from 0th to 4th index: [10, 20, 30, 40, 50]\n",
      "List from -7th to 3rd element: [40]\n",
      "List after appending 110: [10, 20, 30, 40, 50, 60, 70, 80, 90, 100, 110]\n",
      "Sorted list: [10, 20, 30, 40, 50, 60, 70, 80, 90, 100, 110]\n",
      "Popped element: 110\n",
      "List after popping: [10, 20, 30, 40, 50, 60, 70, 80, 90, 100]\n",
      "List after removing 40: [10, 20, 30, 50, 60, 70, 80, 90, 100]\n",
      "List after inserting 35 at index 2: [10, 20, 35, 30, 50, 60, 70, 80, 90, 100]\n",
      "Occurrence of 50: 1\n",
      "List after extending: [10, 20, 35, 30, 50, 60, 70, 80, 90, 100, 120, 130, 140]\n",
      "Reversed list: [140, 130, 120, 100, 90, 80, 70, 60, 50, 30, 35, 20, 10]\n"
     ]
    }
   ],
   "source": [
    "a = [10, 20, 30, 40, 50, 60, 70, 80, 90, 100]\n",
    "\n",
    "# i. Print Complete list\n",
    "print(f'Complete list: {a}')\n",
    "\n",
    "# ii. Print 4th element of list\n",
    "print(f'4th element: {a[3]}')  # Indexing starts at 0\n",
    "\n",
    "# iii. Print list from 0th to 4th index.\n",
    "print(f'List from 0th to 4th index: {a[0:5]}')\n",
    "\n",
    "# iv. Print list from -7th to 3rd element\n",
    "print(f'List from -7th to 3rd element: {a[-7:4]}')\n",
    "\n",
    "# v. Appending an element to list.\n",
    "a.append(110)\n",
    "print(f'List after appending 110: {a}')\n",
    "\n",
    "# vi. Sorting the elements of list.\n",
    "a.sort()\n",
    "print(f'Sorted list: {a}')\n",
    "\n",
    "# vii. Popping an element.\n",
    "popped_element = a.pop()  # Pops the last element\n",
    "print(f'Popped element: {popped_element}')\n",
    "print(f'List after popping: {a}')\n",
    "\n",
    "# viii. Removing a specified element.\n",
    "a.remove(40)  # Remove first occurrence of 40\n",
    "print(f'List after removing 40: {a}')\n",
    "\n",
    "# ix. Entering an element at specified index.\n",
    "a.insert(2, 35)  # Insert 35 at index 2\n",
    "print(f'List after inserting 35 at index 2: {a}')\n",
    "\n",
    "# x. Counting the occurrence of a specified element.\n",
    "count_of_50 = a.count(50)\n",
    "print(f'Occurrence of 50: {count_of_50}')\n",
    "\n",
    "# xi. Extending the list.\n",
    "a.extend([120, 130, 140])  # Extend with another list\n",
    "print(f'List after extending: {a}')\n",
    "\n",
    "# xii. Reversing the list.\n",
    "a.reverse()\n",
    "print(f'Reversed list: {a}')\n"
   ]
  },
  {
   "cell_type": "code",
   "execution_count": 33,
   "metadata": {},
   "outputs": [
    {
     "name": "stdout",
     "output_type": "stream",
     "text": [
      "Sum of matrices:\n",
      "[[10, 10, 10], [10, 10, 10], [10, 10, 10]]\n"
     ]
    }
   ],
   "source": [
    "def add_matrices(mat1, mat2):\n",
    "    return [[mat1[i][j] + mat2[i][j] for j in range(len(mat1[0]))] for i in range(len(mat1))]\n",
    "\n",
    "matrix1 = [[1, 2, 3], [4, 5, 6], [7, 8, 9]]\n",
    "matrix2 = [[9, 8, 7], [6, 5, 4], [3, 2, 1]]\n",
    "\n",
    "result_matrix = add_matrices(matrix1, matrix2)\n",
    "print(f'Sum of matrices:\\n{result_matrix}')\n"
   ]
  },
  {
   "cell_type": "code",
   "execution_count": 34,
   "metadata": {},
   "outputs": [
    {
     "name": "stdout",
     "output_type": "stream",
     "text": [
      "List with only integer elements: [1, 4, 9, 0, 4]\n"
     ]
    }
   ],
   "source": [
    "l1 = [1, 'x', 4, 5.6, 'z', 9, 'a', 0, 4]\n",
    "l2 = [item for item in l1 if isinstance(item, int)]\n",
    "print(f'List with only integer elements: {l2}')\n"
   ]
  },
  {
   "cell_type": "code",
   "execution_count": 35,
   "metadata": {},
   "outputs": [
    {
     "name": "stdout",
     "output_type": "stream",
     "text": [
      "Element-wise sum of the said tuples: (6, 9, 8, 6)\n"
     ]
    }
   ],
   "source": [
    "#TUPLE\n",
    "\n",
    "def elementwise_sum(tuples):\n",
    "    return tuple(sum(values) for values in zip(*tuples))\n",
    "\n",
    "tuple1 = (1, 2, 3, 4)\n",
    "tuple2 = (3, 5, 2, 1)\n",
    "tuple3 = (2, 2, 3, 1)\n",
    "\n",
    "result = elementwise_sum((tuple1, tuple2, tuple3))\n",
    "print(f'Element-wise sum of the said tuples: {result}')\n"
   ]
  },
  {
   "cell_type": "code",
   "execution_count": 36,
   "metadata": {},
   "outputs": [
    {
     "name": "stdout",
     "output_type": "stream",
     "text": [
      "Convert the said list of tuples to a list of lists: [[1, 2], [2, 3], [3, 4]]\n"
     ]
    }
   ],
   "source": [
    "def tuples_to_lists(tuples_list):\n",
    "    return [list(t) for t in tuples_list]\n",
    "\n",
    "original_tuples = [(1, 2), (2, 3), (3, 4)]\n",
    "converted_lists = tuples_to_lists(original_tuples)\n",
    "print(\"Convert the said list of tuples to a list of lists:\", converted_lists)"
   ]
  },
  {
   "cell_type": "code",
   "execution_count": 38,
   "metadata": {},
   "outputs": [
    {
     "name": "stdout",
     "output_type": "stream",
     "text": [
      "List after removing empty tuples: [(1, 2), (2, 3), (3, 4), (4, 5), (5, 6)]\n"
     ]
    }
   ],
   "source": [
    "def remove_empty_tuples(tuples_list):\n",
    "    return [t for t in tuples_list if t]\n",
    "\n",
    "original_list = [(1, 2), (2,3), (3, 4), (4,5), (5,6)]\n",
    "cleaned_list = remove_empty_tuples(original_list)\n",
    "print(\"List after removing empty tuples:\", cleaned_list)\n"
   ]
  },
  {
   "cell_type": "code",
   "execution_count": 40,
   "metadata": {},
   "outputs": [
    {
     "name": "stdout",
     "output_type": "stream",
     "text": [
      "Converted string to tuple: ('p', 'y', 't', 'h', 'o', 'n')\n"
     ]
    }
   ],
   "source": [
    "def string_to_tuple(s):\n",
    "    return tuple(s)\n",
    "\n",
    "# Example usage\n",
    "original_string = \"python\"\n",
    "result = string_to_tuple(original_string)\n",
    "print(\"Converted string to tuple:\", result)"
   ]
  },
  {
   "cell_type": "code",
   "execution_count": 42,
   "metadata": {},
   "outputs": [
    {
     "name": "stdout",
     "output_type": "stream",
     "text": [
      "Product of the numbers in the tuple: 720\n"
     ]
    }
   ],
   "source": [
    "import functools\n",
    "import operator\n",
    "\n",
    "def tuple_product(t):\n",
    "    return functools.reduce(operator.mul, t, 1)\n",
    "\n",
    "# Example usage\n",
    "numbers_tuple = (1, 2, 3, 4, 5, 6)\n",
    "result = tuple_product(numbers_tuple)\n",
    "print(\"Product of the numbers in the tuple:\", result)"
   ]
  },
  {
   "cell_type": "code",
   "execution_count": 43,
   "metadata": {},
   "outputs": [
    {
     "name": "stdout",
     "output_type": "stream",
     "text": [
      "List of squares from 1 to 20: [1, 4, 9, 16, 25, 36, 49, 64, 81, 100, 121, 144, 169, 196, 225, 256, 289, 324, 361, 400]\n"
     ]
    }
   ],
   "source": [
    "squares = [x ** 2 for x in range(1, 21)]\n",
    "print(\"List of squares from 1 to 20:\", squares)\n"
   ]
  },
  {
   "cell_type": "code",
   "execution_count": 44,
   "metadata": {},
   "outputs": [
    {
     "name": "stdout",
     "output_type": "stream",
     "text": [
      "Set after removing item: {1, 2, 4}\n"
     ]
    }
   ],
   "source": [
    "#SET\n",
    "\n",
    "def remove_item_from_set(s, item):\n",
    "    s.discard(item)  # discard won't raise an error if the item is not present\n",
    "    return s\n",
    "\n",
    "# Example usage\n",
    "my_set = {1, 2, 3, 4}\n",
    "item_to_remove = 3\n",
    "result = remove_item_from_set(my_set, item_to_remove)\n",
    "print(\"Set after removing item:\", result)\n"
   ]
  },
  {
   "cell_type": "code",
   "execution_count": 45,
   "metadata": {},
   "outputs": [
    {
     "name": "stdout",
     "output_type": "stream",
     "text": [
      "Do the sets have no common elements? True\n"
     ]
    }
   ],
   "source": [
    "def have_no_common_elements(set1, set2):\n",
    "    return set1.isdisjoint(set2)\n",
    "\n",
    "# Example usage\n",
    "set_a = {11, 12, 13}\n",
    "set_b = {14, 15, 16}\n",
    "result = have_no_common_elements(set_a, set_b)\n",
    "print(\"Do the sets have no common elements?\", result)"
   ]
  },
  {
   "cell_type": "code",
   "execution_count": 47,
   "metadata": {},
   "outputs": [
    {
     "name": "stdout",
     "output_type": "stream",
     "text": [
      "Unique items from both sets: {11, 12, 14, 15}\n"
     ]
    }
   ],
   "source": [
    "def unique_items(set1, set2):\n",
    "    return set1.symmetric_difference(set2)\n",
    "\n",
    "# Example usage\n",
    "set_a = {11, 12, 13}\n",
    "set_b = {13, 14, 15}\n",
    "result = unique_items(set_a, set_b)\n",
    "print(\"Unique items from both sets:\", result)"
   ]
  },
  {
   "cell_type": "code",
   "execution_count": 48,
   "metadata": {},
   "outputs": [
    {
     "name": "stdout",
     "output_type": "stream",
     "text": [
      "Set converted to string: 123\n"
     ]
    }
   ],
   "source": [
    "def set_to_string(s):\n",
    "    return ''.join(map(str, s))\n",
    "\n",
    "# Example usage\n",
    "my_set = {1, 2, 3}\n",
    "result = set_to_string(my_set)\n",
    "print(\"Set converted to string:\", result)"
   ]
  },
  {
   "cell_type": "code",
   "execution_count": 49,
   "metadata": {},
   "outputs": [
    {
     "name": "stdout",
     "output_type": "stream",
     "text": [
      "Number of unique vowels in the string: 2\n"
     ]
    }
   ],
   "source": [
    "def count_vowels(s):\n",
    "    vowels = {'a', 'e', 'i', 'o', 'u'}\n",
    "    return len(set(c for c in s.lower() if c in vowels))\n",
    "\n",
    "# Example usage\n",
    "input_string = \"Hello World\"\n",
    "result = count_vowels(input_string)\n",
    "print(\"Number of unique vowels in the string:\", result)\n"
   ]
  },
  {
   "cell_type": "code",
   "execution_count": 50,
   "metadata": {},
   "outputs": [
    {
     "name": "stdout",
     "output_type": "stream",
     "text": [
      "Set of cubes of even numbers from 2 to 12: {512, 64, 1728, 8, 1000, 216}\n"
     ]
    }
   ],
   "source": [
    "cubes_of_even = {x ** 3 for x in range(2, 13) if x % 2 == 0}\n",
    "print(\"Set of cubes of even numbers from 2 to 12:\", cubes_of_even)\n"
   ]
  },
  {
   "cell_type": "code",
   "execution_count": 52,
   "metadata": {},
   "outputs": [
    {
     "name": "stdout",
     "output_type": "stream",
     "text": [
      "Sorted (ascending): {'mango': 1, 'custurd apple': 2, 'apple': 3}\n",
      "Sorted (descending): {'apple': 3, 'custurd apple': 2, 'mango': 1}\n"
     ]
    }
   ],
   "source": [
    "def sort_dict_by_value(d):\n",
    "    ascending = dict(sorted(d.items(), key=lambda item: item[1]))\n",
    "    descending = dict(sorted(d.items(), key=lambda item: item[1], reverse=True))\n",
    "    return ascending, descending\n",
    "\n",
    "# Example usage\n",
    "my_dict = {'apple': 3, 'mango': 1, 'custurd apple': 2}\n",
    "asc, desc = sort_dict_by_value(my_dict)\n",
    "print(\"Sorted (ascending):\", asc)\n",
    "print(\"Sorted (descending):\", desc)\n"
   ]
  },
  {
   "cell_type": "code",
   "execution_count": 53,
   "metadata": {},
   "outputs": [
    {
     "name": "stdout",
     "output_type": "stream",
     "text": [
      "Dictionary after removing duplicates: {'a': 3, 'b': 2}\n"
     ]
    }
   ],
   "source": [
    "def remove_duplicates(d):\n",
    "    return {key: value for key, value in d.items()}\n",
    "\n",
    "# Example usage\n",
    "my_dict = {'a': 1, 'b': 2, 'a': 3}\n",
    "result = remove_duplicates(my_dict)\n",
    "print(\"Dictionary after removing duplicates:\", result)\n"
   ]
  },
  {
   "cell_type": "code",
   "execution_count": 55,
   "metadata": {},
   "outputs": [
    {
     "name": "stdout",
     "output_type": "stream",
     "text": [
      "Combined dictionary: {'a': 7, 'b': 17, 'c': 10}\n"
     ]
    }
   ],
   "source": [
    "def combine_dicts(dict1, dict2):\n",
    "    combined = dict1.copy()  # create a copy of the first dictionary\n",
    "    for key, value in dict2.items():\n",
    "        combined[key] = combined.get(key, 0) + value\n",
    "    return combined\n",
    "\n",
    "# Example usage\n",
    "dict_a = {'a': 7, 'b': 8}\n",
    "dict_b = {'b': 9, 'c': 10}\n",
    "result = combine_dicts(dict_a, dict_b)\n",
    "print(\"Combined dictionary:\", result)\n"
   ]
  },
  {
   "cell_type": "code",
   "execution_count": 56,
   "metadata": {},
   "outputs": [
    {
     "name": "stdout",
     "output_type": "stream",
     "text": [
      "Letter count dictionary: {'w': 1, 'd': 1, 'e': 1, 'r': 1, 'h': 1, 'o': 2, 'l': 3}\n"
     ]
    }
   ],
   "source": [
    "def count_letters(s):\n",
    "    return {char: s.count(char) for char in set(s) if char.isalpha()}\n",
    "\n",
    "# Example usage\n",
    "input_string = \"hello world\"\n",
    "result = count_letters(input_string)\n",
    "print(\"Letter count dictionary:\", result)\n"
   ]
  },
  {
   "cell_type": "code",
   "execution_count": 57,
   "metadata": {},
   "outputs": [
    {
     "name": "stdout",
     "output_type": "stream",
     "text": [
      "Matching keys and values: {'b': 2}\n"
     ]
    }
   ],
   "source": [
    "def match_key_value(dict1, dict2):\n",
    "    return {key: value for key, value in dict1.items() if key in dict2 and dict1[key] == dict2[key]}\n",
    "\n",
    "# Example usage\n",
    "dict_a = {'a': 1, 'b': 2, 'c': 3}\n",
    "dict_b = {'b': 2, 'c': 4}\n",
    "result = match_key_value(dict_a, dict_b)\n",
    "print(\"Matching keys and values:\", result)"
   ]
  },
  {
   "cell_type": "code",
   "execution_count": 58,
   "metadata": {},
   "outputs": [
    {
     "name": "stdout",
     "output_type": "stream",
     "text": [
      "Prices in pounds: {'milk': 0.74, 'coffee': 1.82, 'bread': 1.82}\n"
     ]
    }
   ],
   "source": [
    "def convert_price_to_pound(old_price):\n",
    "    return {item: round(price * 0.73, 2) for item, price in old_price.items()}  # Assuming 1 dollar = 0.73 pounds\n",
    "\n",
    "# Example usage\n",
    "old_price = {'milk': 1.02, 'coffee': 2.5, 'bread': 2.5}\n",
    "result = convert_price_to_pound(old_price)\n",
    "print(\"Prices in pounds:\", result)"
   ]
  },
  {
   "cell_type": "code",
   "execution_count": 60,
   "metadata": {},
   "outputs": [
    {
     "name": "stdout",
     "output_type": "stream",
     "text": [
      "Dictionary with even ages: {'jayden': 28, 'michael': 38}\n"
     ]
    }
   ],
   "source": [
    "def filter_even_age(original_dict):\n",
    "    return {name: age for name, age in original_dict.items() if age % 2 == 0}\n",
    "\n",
    "# Example usage\n",
    "original_dict = {'jayden': 28, 'michael': 38, 'mia': 47, 'emma': 33}\n",
    "result = filter_even_age(original_dict)\n",
    "print(\"Dictionary with even ages:\", result)\n"
   ]
  }
 ],
 "metadata": {
  "kernelspec": {
   "display_name": "Python 3",
   "language": "python",
   "name": "python3"
  },
  "language_info": {
   "codemirror_mode": {
    "name": "ipython",
    "version": 3
   },
   "file_extension": ".py",
   "mimetype": "text/x-python",
   "name": "python",
   "nbconvert_exporter": "python",
   "pygments_lexer": "ipython3",
   "version": "3.12.6"
  }
 },
 "nbformat": 4,
 "nbformat_minor": 2
}
